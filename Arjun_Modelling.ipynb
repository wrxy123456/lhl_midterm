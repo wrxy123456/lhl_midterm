{
 "cells": [
  {
   "cell_type": "markdown",
   "id": "db288382",
   "metadata": {},
   "source": [
    "### Predictor Features\n",
    "- fl_date\n",
    "- mkt_unique_carrier\n",
    "- branded_code_share\n",
    "- mkt_carrier\n",
    "- mkt_carrier_fl_num\n",
    "- op_unique_carrier\n",
    "- tail_num\n",
    "- op_carrier_fl_num\n",
    "- origin_airport_id\n",
    "- origin\n",
    "- origin_city_name\n",
    "- dest_airport_id\n",
    "- dest\n",
    "- dest_city_name\n",
    "- crs_dep_time\n",
    "- crs_arr_time\n",
    "- dup\n",
    "- crs_elapsed_time\n",
    "- flights\n",
    "- distance\n",
    "\n",
    "### Target Variable\n",
    "- arr_delay"
   ]
  },
  {
   "cell_type": "markdown",
   "id": "0b6a7c9c",
   "metadata": {},
   "source": [
    "Machine Learning\n",
    "In this file, instructions how to approach the challenge can be found.\n",
    "\n",
    "# We are going to work on different types of Machine Learning problems:\n",
    "\n",
    "Regression Problem: The goal is to predict delay of flights.\n",
    "(Stretch) Multiclass Classification: If the plane was delayed, we will predict what type of delay it is (will be).\n",
    "(Stretch) Binary Classification: The goal is to predict if the flight will be cancelled."
   ]
  },
  {
   "cell_type": "code",
   "execution_count": 265,
   "id": "f62ee2e6",
   "metadata": {},
   "outputs": [],
   "source": [
    "current_path = os.getcwd()"
   ]
  },
  {
   "cell_type": "markdown",
   "id": "3428d890",
   "metadata": {},
   "source": [
    "The target variable is ARR_DELAY. We need to be careful which columns to use and which don't. For example, DEP_DELAY is going to be the perfect predictor, but we can't use it because in real-life scenario, we want to predict the delay before the flight takes of --> We can use average delay from earlier days but not the one from the actual flight we predict.\n",
    "\n",
    "For example, variables CARRIER_DELAY, WEATHER_DELAY, NAS_DELAY, SECURITY_DELAY, LATE_AIRCRAFT_DELAY shouldn't be used directly as predictors as well. However, we can create various transformations from earlier values.\n",
    "\n",
    "We will be evaluating your models by predicting the ARR_DELAY for all flights 1 week in advance."
   ]
  },
  {
   "cell_type": "code",
   "execution_count": 810,
   "id": "d2538b5c",
   "metadata": {},
   "outputs": [],
   "source": [
    "import pandas as pd\n",
    "import numpy as np\n",
    "from sklearn import preprocessing\n",
    "from sklearn.preprocessing import StandardScaler\n",
    "from sklearn.preprocessing import PolynomialFeatures\n",
    "from sklearn.model_selection import train_test_split\n",
    "from sklearn.neighbors import KNeighborsClassifier\n",
    "from sklearn.linear_model import LinearRegression\n",
    "from sklearn.metrics import mean_squared_error, mean_absolute_error, r2_score\n",
    "import seaborn as sns\n",
    "import matplotlib.pyplot as plt\n",
    "from matplotlib import pyplot\n",
    "from sklearn import metrics\n",
    "from sklearn.metrics import recall_score, precision_score, r2_score\n",
    "import xgboost as xgb\n",
    "import pickle\n",
    "from sklearn.datasets import make_classification\n",
    "from sklearn.model_selection import cross_val_score\n",
    "from sklearn.model_selection import cross_validate\n",
    "from sklearn.model_selection import RepeatedStratifiedKFold\n",
    "from sklearn.model_selection import KFold\n",
    "from sklearn.model_selection import GridSearchCV\n",
    "from sklearn.ensemble import RandomForestRegressor\n",
    "from sklearn.tree import DecisionTreeRegressor\n",
    "from sklearn.preprocessing import LabelEncoder, StandardScaler, OrdinalEncoder, PolynomialFeatures, MinMaxScaler, OneHotEncoder\n",
    "from sklearn.preprocessing import LabelBinarizer\n",
    "import warnings\n",
    "import os\n",
    "from datetime import datetime\n",
    "from sklearn.linear_model import Ridge\n",
    "\n",
    "warnings.filterwarnings(\"ignore\")\n"
   ]
  },
  {
   "cell_type": "code",
   "execution_count": 770,
   "id": "f16505be",
   "metadata": {},
   "outputs": [],
   "source": [
    "df = pd.read_csv('/Users/arjunduggal/Desktop/lighthouse-data-notes/Midterm_1/Data/FLIGHTS_cleaned.csv')"
   ]
  },
  {
   "cell_type": "code",
   "execution_count": 771,
   "id": "0982839b",
   "metadata": {},
   "outputs": [],
   "source": [
    "model_df = df[['arr_delay','dep_delay','fl_date','op_unique_carrier','origin','dest',\n",
    "               'crs_dep_time','crs_arr_time','flights','crs_elapsed_time','distance','origin_city_name',\n",
    "               'dest_city_name','origin_airport_id','dest_airport_id']]"
   ]
  },
  {
   "cell_type": "code",
   "execution_count": 772,
   "id": "59718fe0",
   "metadata": {},
   "outputs": [],
   "source": [
    "def fill_na(df):'''Simple function to replace empty entries with place holder of 0'''\n",
    "for i in delay_list:\n",
    "    df[i] = df[i].fillna(0)"
   ]
  },
  {
   "cell_type": "markdown",
   "id": "3bd4328b",
   "metadata": {},
   "source": [
    "### Replacing any potential null elapsed time values with place holder of 0 (reduces chance of any bias influecing a key feature in our model)\n"
   ]
  },
  {
   "cell_type": "code",
   "execution_count": 773,
   "id": "3a8990dc",
   "metadata": {},
   "outputs": [],
   "source": [
    "model_df['crs_elapsed_time'] = model_df['crs_elapsed_time'].fillna(0)\n",
    "df['arr_delay'] = df['arr_delay'].fillna(0)"
   ]
  },
  {
   "cell_type": "markdown",
   "id": "db9ef7d4",
   "metadata": {},
   "source": [
    "### Simply check whether there is a arrival delay or not through a binary value\n"
   ]
  },
  {
   "cell_type": "code",
   "execution_count": 774,
   "id": "92c0c1fe",
   "metadata": {},
   "outputs": [],
   "source": [
    "if 'arr_delay' in model_df.columns:\n",
    "    model_df['delay_occured'] = model_df['arr_delay'].map(lambda x: 0 if x <= 0 else 1)\n",
    "    #model_df.drop(columns='arr_delay', inplace=True)"
   ]
  },
  {
   "cell_type": "markdown",
   "id": "baf3967f",
   "metadata": {},
   "source": [
    "### Converting datetime feature from yy-mm-dd in order to grab the specific month, day of the week. Strong relationship between what day of the week it is and how much air traffic ensues\n"
   ]
  },
  {
   "cell_type": "code",
   "execution_count": 775,
   "id": "74aa2551",
   "metadata": {},
   "outputs": [],
   "source": [
    "month_to_season = {1: 1, 2: 1, 3: 2, 4: 2, 5: 2, 6: 3, 7: 3, 8: 3, 9: 4, 10: 4, 11: 4, 12: 1}\n",
    "model_df['fl_date'] = pd.to_datetime(model_df['fl_date'], errors='coerce')\n",
    "model_df['month'] = model_df['fl_date'].dt.month\n",
    "model_df['day_of_week'] = model_df['fl_date'].dt.dayofweek\n",
    "model_df['day_of_month'] = model_df['fl_date'].dt.day\n",
    "model_df['year'] = model_df['fl_date'].dt.year\n",
    "model_df['season'] = model_df['month'].map(month_to_season)\n",
    "#model_df.drop(columns=['fl_date'],inplace=True)"
   ]
  },
  {
   "cell_type": "markdown",
   "id": "3e0c2252",
   "metadata": {},
   "source": [
    "### Categorzining the kind of flight that endured based on the crs_elapsed_time feature, doing so as we believe longer flights tend to generate a greater arrival delay then others"
   ]
  },
  {
   "cell_type": "code",
   "execution_count": 776,
   "id": "23ee54e0",
   "metadata": {},
   "outputs": [],
   "source": [
    "#encoding function to numerical describe the duration of a flight based on three intervals (less than 3 hours, in between 3-6 hours and greater then 6 hours)\n",
    "def time_cat(df, col):\n",
    "    '''Determine if flight length is SHORT (0), MEDIUM(1) or LONG(2) based on expected elapsed flight time. '''\n",
    "    length=[]\n",
    "    for i in df[col]:\n",
    "        if i < (3*60): # up to 3 hours\n",
    "            length.append(0) # 0 = SHORT \n",
    "        elif (i >= (3*60)) and (i < (6*60)): # 3-6 hours\n",
    "            length.append(1) # 1 = MEDIUM \n",
    "        elif i >= (6*60):# 6+ hours\n",
    "            length.append(2) # 2 = LONG \n",
    "\n",
    "    df['time_cat'] = length"
   ]
  },
  {
   "cell_type": "code",
   "execution_count": 777,
   "id": "975d1ff1",
   "metadata": {},
   "outputs": [],
   "source": [
    "time_cat(model_df,'crs_elapsed_time')"
   ]
  },
  {
   "cell_type": "code",
   "execution_count": 778,
   "id": "1210b2f8",
   "metadata": {},
   "outputs": [
    {
     "data": {
      "text/plain": [
       "0    156229\n",
       "1     37436\n",
       "2      2890\n",
       "Name: time_cat, dtype: int64"
      ]
     },
     "execution_count": 778,
     "metadata": {},
     "output_type": "execute_result"
    }
   ],
   "source": [
    "model_df.time_cat.value_counts()"
   ]
  },
  {
   "cell_type": "markdown",
   "id": "24e0f2cc",
   "metadata": {},
   "source": [
    "### Distance/ crs_elapsed_time, unsure if we'll be privied to this sort of information?\n"
   ]
  },
  {
   "cell_type": "code",
   "execution_count": 779,
   "id": "2aecb6b6",
   "metadata": {},
   "outputs": [],
   "source": [
    "def avg_plane_velo(df,distance,time):\n",
    "    '''Creating a basic function derived from kinematics that takes in airtime (minutes) and distance(miles) \n",
    "    to return the average plane velocity, want the si unit to be in Mph'''\n",
    "    \n",
    "    df['avg_plane_velocity'] = df[distance] / df[time] * 60 "
   ]
  },
  {
   "cell_type": "code",
   "execution_count": 780,
   "id": "49c4e99f",
   "metadata": {},
   "outputs": [],
   "source": [
    "avg_plane_velo(model_df,'distance','crs_elapsed_time')"
   ]
  },
  {
   "cell_type": "markdown",
   "id": "1638fa3c",
   "metadata": {},
   "source": [
    "### Converting to Milatary time, longer process is to create categorical time of day information using time_day function defined below as well as expected delays relating to the time of day departure"
   ]
  },
  {
   "cell_type": "code",
   "execution_count": 781,
   "id": "c091f645",
   "metadata": {},
   "outputs": [],
   "source": [
    "def time_row(row):\n",
    "    row_int = int(row)\n",
    "    row_str = str(row_int)\n",
    "    len_row = len(row_str)\n",
    "    if len_row ==1:\n",
    "        minute = \"00\"\n",
    "        hour = row_str\n",
    "        row = hour+minute\n",
    "    if len_row ==2:\n",
    "        minute = '0' +row_str[1]\n",
    "        hour = row_str[0]\n",
    "        row = hour + minute\n",
    "    elif len_row ==4:\n",
    "        minute = row_str[2] +row_str[3]\n",
    "        hour = row_str[0] + row_str[1]\n",
    "        row = hour + minute\n",
    "        if row =='24:00':\n",
    "            row ='23:59'\n",
    "    return str(row)"
   ]
  },
  {
   "cell_type": "code",
   "execution_count": 782,
   "id": "cde068b1",
   "metadata": {},
   "outputs": [],
   "source": [
    "model_df['dep_time_milatary'] = model_df['crs_dep_time'].apply(time_row)"
   ]
  },
  {
   "cell_type": "code",
   "execution_count": 783,
   "id": "6319c4db",
   "metadata": {},
   "outputs": [],
   "source": [
    "model_df['arr_time_milatary'] = model_df['crs_arr_time'].apply(time_row)"
   ]
  },
  {
   "cell_type": "markdown",
   "id": "41050b0f",
   "metadata": {},
   "source": [
    "### crs_elapsed_time --> haul_length\n"
   ]
  },
  {
   "cell_type": "code",
   "execution_count": 784,
   "id": "112645c2",
   "metadata": {},
   "outputs": [],
   "source": [
    "def time_day(df,col,new_col):\n",
    "    lst=[]\n",
    "    for i in df[col]:\n",
    "        if ((len(i)==4) and (int(i[:2]) >=23)) or ((len(i)==3) and (int(i[0]) < 5)):\n",
    "            lst.append(0) # 0 = OVERNIGHT\n",
    "        elif ((len(i) == 3) and (int(i[0])>=5)) or ((len(i)==4) and (int(i[:2]) < 12)):\n",
    "            lst.append(1) # 1 = MORNING\n",
    "        elif (len(i)==4) and (int(i[:2]) >= 12) and (int(i[:2]) < 18):\n",
    "            lst.append(2) # 2 = AFTERNOON\n",
    "        elif (len(i)==4) and (int(i[:2])>=18) and (int(i[:2])<23):\n",
    "            lst.append(3) # 3 = EVENING\n",
    "    \n",
    "    print(len(lst))\n",
    "    df[[new_col]] = lst\n",
    "    \n",
    "    return df[[new_col]]"
   ]
  },
  {
   "cell_type": "code",
   "execution_count": 785,
   "id": "c8b1a074",
   "metadata": {},
   "outputs": [
    {
     "name": "stdout",
     "output_type": "stream",
     "text": [
      "196555\n"
     ]
    },
    {
     "data": {
      "text/html": [
       "<div>\n",
       "<style scoped>\n",
       "    .dataframe tbody tr th:only-of-type {\n",
       "        vertical-align: middle;\n",
       "    }\n",
       "\n",
       "    .dataframe tbody tr th {\n",
       "        vertical-align: top;\n",
       "    }\n",
       "\n",
       "    .dataframe thead th {\n",
       "        text-align: right;\n",
       "    }\n",
       "</style>\n",
       "<table border=\"1\" class=\"dataframe\">\n",
       "  <thead>\n",
       "    <tr style=\"text-align: right;\">\n",
       "      <th></th>\n",
       "      <th>dep_time_haul</th>\n",
       "    </tr>\n",
       "  </thead>\n",
       "  <tbody>\n",
       "    <tr>\n",
       "      <th>0</th>\n",
       "      <td>2</td>\n",
       "    </tr>\n",
       "    <tr>\n",
       "      <th>1</th>\n",
       "      <td>1</td>\n",
       "    </tr>\n",
       "    <tr>\n",
       "      <th>2</th>\n",
       "      <td>2</td>\n",
       "    </tr>\n",
       "    <tr>\n",
       "      <th>3</th>\n",
       "      <td>2</td>\n",
       "    </tr>\n",
       "    <tr>\n",
       "      <th>4</th>\n",
       "      <td>1</td>\n",
       "    </tr>\n",
       "    <tr>\n",
       "      <th>...</th>\n",
       "      <td>...</td>\n",
       "    </tr>\n",
       "    <tr>\n",
       "      <th>196550</th>\n",
       "      <td>1</td>\n",
       "    </tr>\n",
       "    <tr>\n",
       "      <th>196551</th>\n",
       "      <td>1</td>\n",
       "    </tr>\n",
       "    <tr>\n",
       "      <th>196552</th>\n",
       "      <td>1</td>\n",
       "    </tr>\n",
       "    <tr>\n",
       "      <th>196553</th>\n",
       "      <td>3</td>\n",
       "    </tr>\n",
       "    <tr>\n",
       "      <th>196554</th>\n",
       "      <td>3</td>\n",
       "    </tr>\n",
       "  </tbody>\n",
       "</table>\n",
       "<p>196555 rows × 1 columns</p>\n",
       "</div>"
      ],
      "text/plain": [
       "        dep_time_haul\n",
       "0                   2\n",
       "1                   1\n",
       "2                   2\n",
       "3                   2\n",
       "4                   1\n",
       "...               ...\n",
       "196550              1\n",
       "196551              1\n",
       "196552              1\n",
       "196553              3\n",
       "196554              3\n",
       "\n",
       "[196555 rows x 1 columns]"
      ]
     },
     "execution_count": 785,
     "metadata": {},
     "output_type": "execute_result"
    }
   ],
   "source": [
    "time_day(model_df,'dep_time_milatary','dep_time_haul')"
   ]
  },
  {
   "cell_type": "code",
   "execution_count": 786,
   "id": "d2feea24",
   "metadata": {},
   "outputs": [
    {
     "name": "stdout",
     "output_type": "stream",
     "text": [
      "196555\n"
     ]
    },
    {
     "data": {
      "text/html": [
       "<div>\n",
       "<style scoped>\n",
       "    .dataframe tbody tr th:only-of-type {\n",
       "        vertical-align: middle;\n",
       "    }\n",
       "\n",
       "    .dataframe tbody tr th {\n",
       "        vertical-align: top;\n",
       "    }\n",
       "\n",
       "    .dataframe thead th {\n",
       "        text-align: right;\n",
       "    }\n",
       "</style>\n",
       "<table border=\"1\" class=\"dataframe\">\n",
       "  <thead>\n",
       "    <tr style=\"text-align: right;\">\n",
       "      <th></th>\n",
       "      <th>arr_time_haul</th>\n",
       "    </tr>\n",
       "  </thead>\n",
       "  <tbody>\n",
       "    <tr>\n",
       "      <th>0</th>\n",
       "      <td>3</td>\n",
       "    </tr>\n",
       "    <tr>\n",
       "      <th>1</th>\n",
       "      <td>3</td>\n",
       "    </tr>\n",
       "    <tr>\n",
       "      <th>2</th>\n",
       "      <td>0</td>\n",
       "    </tr>\n",
       "    <tr>\n",
       "      <th>3</th>\n",
       "      <td>3</td>\n",
       "    </tr>\n",
       "    <tr>\n",
       "      <th>4</th>\n",
       "      <td>1</td>\n",
       "    </tr>\n",
       "    <tr>\n",
       "      <th>...</th>\n",
       "      <td>...</td>\n",
       "    </tr>\n",
       "    <tr>\n",
       "      <th>196550</th>\n",
       "      <td>2</td>\n",
       "    </tr>\n",
       "    <tr>\n",
       "      <th>196551</th>\n",
       "      <td>1</td>\n",
       "    </tr>\n",
       "    <tr>\n",
       "      <th>196552</th>\n",
       "      <td>1</td>\n",
       "    </tr>\n",
       "    <tr>\n",
       "      <th>196553</th>\n",
       "      <td>3</td>\n",
       "    </tr>\n",
       "    <tr>\n",
       "      <th>196554</th>\n",
       "      <td>0</td>\n",
       "    </tr>\n",
       "  </tbody>\n",
       "</table>\n",
       "<p>196555 rows × 1 columns</p>\n",
       "</div>"
      ],
      "text/plain": [
       "        arr_time_haul\n",
       "0                   3\n",
       "1                   3\n",
       "2                   0\n",
       "3                   3\n",
       "4                   1\n",
       "...               ...\n",
       "196550              2\n",
       "196551              1\n",
       "196552              1\n",
       "196553              3\n",
       "196554              0\n",
       "\n",
       "[196555 rows x 1 columns]"
      ]
     },
     "execution_count": 786,
     "metadata": {},
     "output_type": "execute_result"
    }
   ],
   "source": [
    "time_day(model_df,'arr_time_milatary','arr_time_haul')"
   ]
  },
  {
   "cell_type": "markdown",
   "id": "e298d4f4",
   "metadata": {},
   "source": [
    "### Origin and Arrival state Columms"
   ]
  },
  {
   "cell_type": "code",
   "execution_count": 787,
   "id": "56e6c247",
   "metadata": {},
   "outputs": [],
   "source": [
    "model_df['origin_state'] = model_df['origin_city_name'].str[-2:]"
   ]
  },
  {
   "cell_type": "code",
   "execution_count": 788,
   "id": "ec2166fc",
   "metadata": {},
   "outputs": [],
   "source": [
    "model_df['dest_state']= model_df['dest_city_name'].str[-2:]"
   ]
  },
  {
   "cell_type": "markdown",
   "id": "72c3113e",
   "metadata": {},
   "source": [
    "### Summary statistics for aiports based on arrival and depature locations"
   ]
  },
  {
   "cell_type": "code",
   "execution_count": 789,
   "id": "0e6cdf1c",
   "metadata": {},
   "outputs": [],
   "source": [
    "model_df['origin_airport_volume'] = model_df.groupby(['origin_airport_id'])['flights'].transform(np.sum) "
   ]
  },
  {
   "cell_type": "code",
   "execution_count": 790,
   "id": "dde727cc",
   "metadata": {},
   "outputs": [],
   "source": [
    "model_df['dest_aiport_volume'] =model_df.groupby(['dest_airport_id'])['flights'].transform(np.sum)"
   ]
  },
  {
   "cell_type": "code",
   "execution_count": 791,
   "id": "cd825e38",
   "metadata": {},
   "outputs": [],
   "source": [
    "model_df['carrier_origin_apt_vol'] = model_df.groupby(['origin_airport_id','op_unique_carrier'])['flights'].transform(np.sum)\n",
    "model_df['carrier_dest_apt_vol'] = model_df.groupby(['dest_airport_id','op_unique_carrier'])['flights'].transform(np.sum)"
   ]
  },
  {
   "cell_type": "code",
   "execution_count": 792,
   "id": "a975df3d",
   "metadata": {},
   "outputs": [],
   "source": [
    "model_df['carrier_origin_apt_pct'] = model_df['carrier_origin_apt_vol'] / model_df['origin_airport_volume'] * 100\n",
    "model_df['carrier_dest_apt_pct'] = model_df['carrier_dest_apt_vol'] / model_df['dest_aiport_volume'] * 100"
   ]
  },
  {
   "cell_type": "code",
   "execution_count": 793,
   "id": "93981e22",
   "metadata": {},
   "outputs": [],
   "source": [
    "model_df['mean_carrier_arr_delay'] = model_df.groupby(['op_unique_carrier','month'])['arr_delay'].transform(np.mean)\n",
    "model_df['mean_carrier_dep_delay'] = model_df.groupby(['op_unique_carrier','month'])['dep_delay'].transform(np.mean)"
   ]
  },
  {
   "cell_type": "code",
   "execution_count": 794,
   "id": "432bb8d1",
   "metadata": {},
   "outputs": [
    {
     "data": {
      "text/html": [
       "<div>\n",
       "<style scoped>\n",
       "    .dataframe tbody tr th:only-of-type {\n",
       "        vertical-align: middle;\n",
       "    }\n",
       "\n",
       "    .dataframe tbody tr th {\n",
       "        vertical-align: top;\n",
       "    }\n",
       "\n",
       "    .dataframe thead th {\n",
       "        text-align: right;\n",
       "    }\n",
       "</style>\n",
       "<table border=\"1\" class=\"dataframe\">\n",
       "  <thead>\n",
       "    <tr style=\"text-align: right;\">\n",
       "      <th></th>\n",
       "      <th>arr_delay</th>\n",
       "      <th>dep_delay</th>\n",
       "      <th>fl_date</th>\n",
       "      <th>op_unique_carrier</th>\n",
       "      <th>origin</th>\n",
       "      <th>dest</th>\n",
       "      <th>crs_dep_time</th>\n",
       "      <th>crs_arr_time</th>\n",
       "      <th>flights</th>\n",
       "      <th>crs_elapsed_time</th>\n",
       "      <th>...</th>\n",
       "      <th>origin_state</th>\n",
       "      <th>dest_state</th>\n",
       "      <th>origin_airport_volume</th>\n",
       "      <th>dest_aiport_volume</th>\n",
       "      <th>carrier_origin_apt_vol</th>\n",
       "      <th>carrier_dest_apt_vol</th>\n",
       "      <th>carrier_origin_apt_pct</th>\n",
       "      <th>carrier_dest_apt_pct</th>\n",
       "      <th>mean_carrier_arr_delay</th>\n",
       "      <th>mean_carrier_dep_delay</th>\n",
       "    </tr>\n",
       "  </thead>\n",
       "  <tbody>\n",
       "    <tr>\n",
       "      <th>0</th>\n",
       "      <td>72.0</td>\n",
       "      <td>72.0</td>\n",
       "      <td>2019-03-18</td>\n",
       "      <td>AA</td>\n",
       "      <td>DFW</td>\n",
       "      <td>RSW</td>\n",
       "      <td>1454</td>\n",
       "      <td>1821</td>\n",
       "      <td>1.0</td>\n",
       "      <td>147.0</td>\n",
       "      <td>...</td>\n",
       "      <td>TX</td>\n",
       "      <td>FL</td>\n",
       "      <td>7097.0</td>\n",
       "      <td>873.0</td>\n",
       "      <td>3647.0</td>\n",
       "      <td>111.0</td>\n",
       "      <td>51.387910</td>\n",
       "      <td>12.714777</td>\n",
       "      <td>3.774210</td>\n",
       "      <td>9.466356</td>\n",
       "    </tr>\n",
       "    <tr>\n",
       "      <th>1</th>\n",
       "      <td>23.0</td>\n",
       "      <td>30.0</td>\n",
       "      <td>2019-06-19</td>\n",
       "      <td>AA</td>\n",
       "      <td>SAN</td>\n",
       "      <td>CLT</td>\n",
       "      <td>1058</td>\n",
       "      <td>1850</td>\n",
       "      <td>1.0</td>\n",
       "      <td>292.0</td>\n",
       "      <td>...</td>\n",
       "      <td>CA</td>\n",
       "      <td>NC</td>\n",
       "      <td>2412.0</td>\n",
       "      <td>6209.0</td>\n",
       "      <td>225.0</td>\n",
       "      <td>2472.0</td>\n",
       "      <td>9.328358</td>\n",
       "      <td>39.813174</td>\n",
       "      <td>12.272488</td>\n",
       "      <td>16.439037</td>\n",
       "    </tr>\n",
       "    <tr>\n",
       "      <th>2</th>\n",
       "      <td>-19.0</td>\n",
       "      <td>-5.0</td>\n",
       "      <td>2018-10-23</td>\n",
       "      <td>UA</td>\n",
       "      <td>DEN</td>\n",
       "      <td>BWI</td>\n",
       "      <td>1750</td>\n",
       "      <td>2312</td>\n",
       "      <td>1.0</td>\n",
       "      <td>202.0</td>\n",
       "      <td>...</td>\n",
       "      <td>CO</td>\n",
       "      <td>MD</td>\n",
       "      <td>6797.0</td>\n",
       "      <td>2602.0</td>\n",
       "      <td>1611.0</td>\n",
       "      <td>94.0</td>\n",
       "      <td>23.701633</td>\n",
       "      <td>3.612606</td>\n",
       "      <td>2.155639</td>\n",
       "      <td>5.813953</td>\n",
       "    </tr>\n",
       "    <tr>\n",
       "      <th>3</th>\n",
       "      <td>26.0</td>\n",
       "      <td>36.0</td>\n",
       "      <td>2018-09-07</td>\n",
       "      <td>WN</td>\n",
       "      <td>LAS</td>\n",
       "      <td>OAK</td>\n",
       "      <td>1720</td>\n",
       "      <td>1850</td>\n",
       "      <td>1.0</td>\n",
       "      <td>90.0</td>\n",
       "      <td>...</td>\n",
       "      <td>NV</td>\n",
       "      <td>CA</td>\n",
       "      <td>4142.0</td>\n",
       "      <td>1337.0</td>\n",
       "      <td>1809.0</td>\n",
       "      <td>1036.0</td>\n",
       "      <td>43.674553</td>\n",
       "      <td>77.486911</td>\n",
       "      <td>-1.644198</td>\n",
       "      <td>5.766234</td>\n",
       "    </tr>\n",
       "    <tr>\n",
       "      <th>4</th>\n",
       "      <td>-11.0</td>\n",
       "      <td>-5.0</td>\n",
       "      <td>2018-11-04</td>\n",
       "      <td>OO</td>\n",
       "      <td>LAX</td>\n",
       "      <td>SAN</td>\n",
       "      <td>733</td>\n",
       "      <td>828</td>\n",
       "      <td>1.0</td>\n",
       "      <td>55.0</td>\n",
       "      <td>...</td>\n",
       "      <td>CA</td>\n",
       "      <td>CA</td>\n",
       "      <td>6162.0</td>\n",
       "      <td>2435.0</td>\n",
       "      <td>817.0</td>\n",
       "      <td>220.0</td>\n",
       "      <td>13.258682</td>\n",
       "      <td>9.034908</td>\n",
       "      <td>2.425584</td>\n",
       "      <td>7.480416</td>\n",
       "    </tr>\n",
       "    <tr>\n",
       "      <th>...</th>\n",
       "      <td>...</td>\n",
       "      <td>...</td>\n",
       "      <td>...</td>\n",
       "      <td>...</td>\n",
       "      <td>...</td>\n",
       "      <td>...</td>\n",
       "      <td>...</td>\n",
       "      <td>...</td>\n",
       "      <td>...</td>\n",
       "      <td>...</td>\n",
       "      <td>...</td>\n",
       "      <td>...</td>\n",
       "      <td>...</td>\n",
       "      <td>...</td>\n",
       "      <td>...</td>\n",
       "      <td>...</td>\n",
       "      <td>...</td>\n",
       "      <td>...</td>\n",
       "      <td>...</td>\n",
       "      <td>...</td>\n",
       "      <td>...</td>\n",
       "    </tr>\n",
       "    <tr>\n",
       "      <th>196550</th>\n",
       "      <td>-4.0</td>\n",
       "      <td>-5.0</td>\n",
       "      <td>2019-07-30</td>\n",
       "      <td>WN</td>\n",
       "      <td>SJC</td>\n",
       "      <td>AUS</td>\n",
       "      <td>735</td>\n",
       "      <td>1305</td>\n",
       "      <td>1.0</td>\n",
       "      <td>210.0</td>\n",
       "      <td>...</td>\n",
       "      <td>CA</td>\n",
       "      <td>TX</td>\n",
       "      <td>1639.0</td>\n",
       "      <td>1618.0</td>\n",
       "      <td>821.0</td>\n",
       "      <td>606.0</td>\n",
       "      <td>50.091519</td>\n",
       "      <td>37.453646</td>\n",
       "      <td>6.291638</td>\n",
       "      <td>13.244753</td>\n",
       "    </tr>\n",
       "    <tr>\n",
       "      <th>196551</th>\n",
       "      <td>1.0</td>\n",
       "      <td>0.0</td>\n",
       "      <td>2019-04-10</td>\n",
       "      <td>G4</td>\n",
       "      <td>PIE</td>\n",
       "      <td>GSP</td>\n",
       "      <td>640</td>\n",
       "      <td>809</td>\n",
       "      <td>1.0</td>\n",
       "      <td>89.0</td>\n",
       "      <td>...</td>\n",
       "      <td>FL</td>\n",
       "      <td>SC</td>\n",
       "      <td>194.0</td>\n",
       "      <td>394.0</td>\n",
       "      <td>194.0</td>\n",
       "      <td>7.0</td>\n",
       "      <td>100.000000</td>\n",
       "      <td>1.776650</td>\n",
       "      <td>5.829493</td>\n",
       "      <td>7.206422</td>\n",
       "    </tr>\n",
       "    <tr>\n",
       "      <th>196552</th>\n",
       "      <td>-1.0</td>\n",
       "      <td>-6.0</td>\n",
       "      <td>2019-03-21</td>\n",
       "      <td>AX</td>\n",
       "      <td>HDN</td>\n",
       "      <td>DEN</td>\n",
       "      <td>840</td>\n",
       "      <td>947</td>\n",
       "      <td>1.0</td>\n",
       "      <td>67.0</td>\n",
       "      <td>...</td>\n",
       "      <td>CO</td>\n",
       "      <td>CO</td>\n",
       "      <td>35.0</td>\n",
       "      <td>6825.0</td>\n",
       "      <td>10.0</td>\n",
       "      <td>553.0</td>\n",
       "      <td>28.571429</td>\n",
       "      <td>8.102564</td>\n",
       "      <td>9.159722</td>\n",
       "      <td>12.179310</td>\n",
       "    </tr>\n",
       "    <tr>\n",
       "      <th>196553</th>\n",
       "      <td>51.0</td>\n",
       "      <td>71.0</td>\n",
       "      <td>2018-11-19</td>\n",
       "      <td>UA</td>\n",
       "      <td>ORD</td>\n",
       "      <td>SNA</td>\n",
       "      <td>1935</td>\n",
       "      <td>2200</td>\n",
       "      <td>1.0</td>\n",
       "      <td>265.0</td>\n",
       "      <td>...</td>\n",
       "      <td>IL</td>\n",
       "      <td>CA</td>\n",
       "      <td>9654.0</td>\n",
       "      <td>1100.0</td>\n",
       "      <td>1931.0</td>\n",
       "      <td>148.0</td>\n",
       "      <td>20.002072</td>\n",
       "      <td>13.454545</td>\n",
       "      <td>4.774797</td>\n",
       "      <td>8.357895</td>\n",
       "    </tr>\n",
       "    <tr>\n",
       "      <th>196554</th>\n",
       "      <td>-13.0</td>\n",
       "      <td>-2.0</td>\n",
       "      <td>2018-06-01</td>\n",
       "      <td>DL</td>\n",
       "      <td>DTW</td>\n",
       "      <td>BUF</td>\n",
       "      <td>2215</td>\n",
       "      <td>2319</td>\n",
       "      <td>1.0</td>\n",
       "      <td>64.0</td>\n",
       "      <td>...</td>\n",
       "      <td>MI</td>\n",
       "      <td>NY</td>\n",
       "      <td>4356.0</td>\n",
       "      <td>716.0</td>\n",
       "      <td>1438.0</td>\n",
       "      <td>50.0</td>\n",
       "      <td>33.011938</td>\n",
       "      <td>6.983240</td>\n",
       "      <td>6.689962</td>\n",
       "      <td>13.706897</td>\n",
       "    </tr>\n",
       "  </tbody>\n",
       "</table>\n",
       "<p>196555 rows × 37 columns</p>\n",
       "</div>"
      ],
      "text/plain": [
       "        arr_delay  dep_delay    fl_date op_unique_carrier origin dest  \\\n",
       "0            72.0       72.0 2019-03-18                AA    DFW  RSW   \n",
       "1            23.0       30.0 2019-06-19                AA    SAN  CLT   \n",
       "2           -19.0       -5.0 2018-10-23                UA    DEN  BWI   \n",
       "3            26.0       36.0 2018-09-07                WN    LAS  OAK   \n",
       "4           -11.0       -5.0 2018-11-04                OO    LAX  SAN   \n",
       "...           ...        ...        ...               ...    ...  ...   \n",
       "196550       -4.0       -5.0 2019-07-30                WN    SJC  AUS   \n",
       "196551        1.0        0.0 2019-04-10                G4    PIE  GSP   \n",
       "196552       -1.0       -6.0 2019-03-21                AX    HDN  DEN   \n",
       "196553       51.0       71.0 2018-11-19                UA    ORD  SNA   \n",
       "196554      -13.0       -2.0 2018-06-01                DL    DTW  BUF   \n",
       "\n",
       "        crs_dep_time  crs_arr_time  flights  crs_elapsed_time  ...  \\\n",
       "0               1454          1821      1.0             147.0  ...   \n",
       "1               1058          1850      1.0             292.0  ...   \n",
       "2               1750          2312      1.0             202.0  ...   \n",
       "3               1720          1850      1.0              90.0  ...   \n",
       "4                733           828      1.0              55.0  ...   \n",
       "...              ...           ...      ...               ...  ...   \n",
       "196550           735          1305      1.0             210.0  ...   \n",
       "196551           640           809      1.0              89.0  ...   \n",
       "196552           840           947      1.0              67.0  ...   \n",
       "196553          1935          2200      1.0             265.0  ...   \n",
       "196554          2215          2319      1.0              64.0  ...   \n",
       "\n",
       "        origin_state dest_state origin_airport_volume  dest_aiport_volume  \\\n",
       "0                 TX         FL                7097.0               873.0   \n",
       "1                 CA         NC                2412.0              6209.0   \n",
       "2                 CO         MD                6797.0              2602.0   \n",
       "3                 NV         CA                4142.0              1337.0   \n",
       "4                 CA         CA                6162.0              2435.0   \n",
       "...              ...        ...                   ...                 ...   \n",
       "196550            CA         TX                1639.0              1618.0   \n",
       "196551            FL         SC                 194.0               394.0   \n",
       "196552            CO         CO                  35.0              6825.0   \n",
       "196553            IL         CA                9654.0              1100.0   \n",
       "196554            MI         NY                4356.0               716.0   \n",
       "\n",
       "        carrier_origin_apt_vol  carrier_dest_apt_vol  carrier_origin_apt_pct  \\\n",
       "0                       3647.0                 111.0               51.387910   \n",
       "1                        225.0                2472.0                9.328358   \n",
       "2                       1611.0                  94.0               23.701633   \n",
       "3                       1809.0                1036.0               43.674553   \n",
       "4                        817.0                 220.0               13.258682   \n",
       "...                        ...                   ...                     ...   \n",
       "196550                   821.0                 606.0               50.091519   \n",
       "196551                   194.0                   7.0              100.000000   \n",
       "196552                    10.0                 553.0               28.571429   \n",
       "196553                  1931.0                 148.0               20.002072   \n",
       "196554                  1438.0                  50.0               33.011938   \n",
       "\n",
       "        carrier_dest_apt_pct  mean_carrier_arr_delay  mean_carrier_dep_delay  \n",
       "0                  12.714777                3.774210                9.466356  \n",
       "1                  39.813174               12.272488               16.439037  \n",
       "2                   3.612606                2.155639                5.813953  \n",
       "3                  77.486911               -1.644198                5.766234  \n",
       "4                   9.034908                2.425584                7.480416  \n",
       "...                      ...                     ...                     ...  \n",
       "196550             37.453646                6.291638               13.244753  \n",
       "196551              1.776650                5.829493                7.206422  \n",
       "196552              8.102564                9.159722               12.179310  \n",
       "196553             13.454545                4.774797                8.357895  \n",
       "196554              6.983240                6.689962               13.706897  \n",
       "\n",
       "[196555 rows x 37 columns]"
      ]
     },
     "execution_count": 794,
     "metadata": {},
     "output_type": "execute_result"
    }
   ],
   "source": [
    "model_df"
   ]
  },
  {
   "cell_type": "markdown",
   "id": "3a3beea6",
   "metadata": {},
   "source": [
    "### Changing to category dtype to use a nice encoding process that won't increase the dimensionality of our Df (unsure if we can then use a standard scaler effectively use this encoding method)\n"
   ]
  },
  {
   "cell_type": "code",
   "execution_count": 795,
   "id": "15545fa5",
   "metadata": {},
   "outputs": [],
   "source": [
    "for i in ['op_unique_carrier','origin','dest','origin_state','dest_state']:\n",
    "    model_df[[i]] = model_df[[i]].astype('category')"
   ]
  },
  {
   "cell_type": "code",
   "execution_count": 796,
   "id": "065057c9",
   "metadata": {},
   "outputs": [],
   "source": [
    "model_df['op_unique_carrier'] = model_df.op_unique_carrier.cat.codes\n",
    "model_df['origin'] = model_df.origin.cat.codes\n",
    "model_df['dest'] = model_df.dest.cat.codes\n",
    "model_df['origin_state'] = model_df.origin_state.cat.codes\n",
    "model_df['dest_state'] = model_df.dest_state.cat.codes"
   ]
  },
  {
   "cell_type": "markdown",
   "id": "ff414b66",
   "metadata": {},
   "source": [
    "### Final Examination Of Data Prior to Modelling"
   ]
  },
  {
   "cell_type": "code",
   "execution_count": 797,
   "id": "622be831",
   "metadata": {},
   "outputs": [
    {
     "data": {
      "text/plain": [
       "op_unique_carrier            int8\n",
       "origin                      int16\n",
       "dest                        int16\n",
       "flights                   float64\n",
       "crs_elapsed_time          float64\n",
       "distance                  float64\n",
       "origin_airport_id           int64\n",
       "dest_airport_id             int64\n",
       "delay_occured               int64\n",
       "month                       int64\n",
       "day_of_week                 int64\n",
       "day_of_month                int64\n",
       "year                        int64\n",
       "season                      int64\n",
       "time_cat                    int64\n",
       "avg_plane_velocity        float64\n",
       "dep_time_haul               int64\n",
       "arr_time_haul               int64\n",
       "origin_state                 int8\n",
       "dest_state                   int8\n",
       "origin_airport_volume     float64\n",
       "dest_aiport_volume        float64\n",
       "carrier_origin_apt_vol    float64\n",
       "carrier_dest_apt_vol      float64\n",
       "carrier_origin_apt_pct    float64\n",
       "carrier_dest_apt_pct      float64\n",
       "mean_carrier_arr_delay    float64\n",
       "mean_carrier_dep_delay    float64\n",
       "dtype: object"
      ]
     },
     "execution_count": 797,
     "metadata": {},
     "output_type": "execute_result"
    }
   ],
   "source": [
    "model_df.drop(columns=['crs_dep_time','crs_arr_time','origin_city_name','dest_city_name','dep_time_milatary','arr_time_milatary','fl_date','arr_delay','dep_delay'],inplace=True,axis=1)\n",
    "model_df.dtypes"
   ]
  },
  {
   "cell_type": "code",
   "execution_count": 798,
   "id": "404da179",
   "metadata": {},
   "outputs": [
    {
     "name": "stdout",
     "output_type": "stream",
     "text": [
      "arr_delay    False\n",
      "dtype: bool\n"
     ]
    },
    {
     "data": {
      "text/html": [
       "<div>\n",
       "<style scoped>\n",
       "    .dataframe tbody tr th:only-of-type {\n",
       "        vertical-align: middle;\n",
       "    }\n",
       "\n",
       "    .dataframe tbody tr th {\n",
       "        vertical-align: top;\n",
       "    }\n",
       "\n",
       "    .dataframe thead th {\n",
       "        text-align: right;\n",
       "    }\n",
       "</style>\n",
       "<table border=\"1\" class=\"dataframe\">\n",
       "  <thead>\n",
       "    <tr style=\"text-align: right;\">\n",
       "      <th></th>\n",
       "      <th>total</th>\n",
       "      <th>percent</th>\n",
       "    </tr>\n",
       "  </thead>\n",
       "  <tbody>\n",
       "    <tr>\n",
       "      <th>mean_carrier_dep_delay</th>\n",
       "      <td>0</td>\n",
       "      <td>0.0</td>\n",
       "    </tr>\n",
       "    <tr>\n",
       "      <th>mean_carrier_arr_delay</th>\n",
       "      <td>0</td>\n",
       "      <td>0.0</td>\n",
       "    </tr>\n",
       "    <tr>\n",
       "      <th>origin</th>\n",
       "      <td>0</td>\n",
       "      <td>0.0</td>\n",
       "    </tr>\n",
       "    <tr>\n",
       "      <th>dest</th>\n",
       "      <td>0</td>\n",
       "      <td>0.0</td>\n",
       "    </tr>\n",
       "    <tr>\n",
       "      <th>flights</th>\n",
       "      <td>0</td>\n",
       "      <td>0.0</td>\n",
       "    </tr>\n",
       "    <tr>\n",
       "      <th>crs_elapsed_time</th>\n",
       "      <td>0</td>\n",
       "      <td>0.0</td>\n",
       "    </tr>\n",
       "    <tr>\n",
       "      <th>distance</th>\n",
       "      <td>0</td>\n",
       "      <td>0.0</td>\n",
       "    </tr>\n",
       "    <tr>\n",
       "      <th>origin_airport_id</th>\n",
       "      <td>0</td>\n",
       "      <td>0.0</td>\n",
       "    </tr>\n",
       "    <tr>\n",
       "      <th>dest_airport_id</th>\n",
       "      <td>0</td>\n",
       "      <td>0.0</td>\n",
       "    </tr>\n",
       "    <tr>\n",
       "      <th>delay_occured</th>\n",
       "      <td>0</td>\n",
       "      <td>0.0</td>\n",
       "    </tr>\n",
       "    <tr>\n",
       "      <th>month</th>\n",
       "      <td>0</td>\n",
       "      <td>0.0</td>\n",
       "    </tr>\n",
       "    <tr>\n",
       "      <th>day_of_week</th>\n",
       "      <td>0</td>\n",
       "      <td>0.0</td>\n",
       "    </tr>\n",
       "    <tr>\n",
       "      <th>day_of_month</th>\n",
       "      <td>0</td>\n",
       "      <td>0.0</td>\n",
       "    </tr>\n",
       "    <tr>\n",
       "      <th>year</th>\n",
       "      <td>0</td>\n",
       "      <td>0.0</td>\n",
       "    </tr>\n",
       "    <tr>\n",
       "      <th>season</th>\n",
       "      <td>0</td>\n",
       "      <td>0.0</td>\n",
       "    </tr>\n",
       "    <tr>\n",
       "      <th>time_cat</th>\n",
       "      <td>0</td>\n",
       "      <td>0.0</td>\n",
       "    </tr>\n",
       "    <tr>\n",
       "      <th>avg_plane_velocity</th>\n",
       "      <td>0</td>\n",
       "      <td>0.0</td>\n",
       "    </tr>\n",
       "    <tr>\n",
       "      <th>dep_time_haul</th>\n",
       "      <td>0</td>\n",
       "      <td>0.0</td>\n",
       "    </tr>\n",
       "    <tr>\n",
       "      <th>arr_time_haul</th>\n",
       "      <td>0</td>\n",
       "      <td>0.0</td>\n",
       "    </tr>\n",
       "    <tr>\n",
       "      <th>origin_state</th>\n",
       "      <td>0</td>\n",
       "      <td>0.0</td>\n",
       "    </tr>\n",
       "    <tr>\n",
       "      <th>dest_state</th>\n",
       "      <td>0</td>\n",
       "      <td>0.0</td>\n",
       "    </tr>\n",
       "    <tr>\n",
       "      <th>origin_airport_volume</th>\n",
       "      <td>0</td>\n",
       "      <td>0.0</td>\n",
       "    </tr>\n",
       "    <tr>\n",
       "      <th>dest_aiport_volume</th>\n",
       "      <td>0</td>\n",
       "      <td>0.0</td>\n",
       "    </tr>\n",
       "    <tr>\n",
       "      <th>carrier_origin_apt_vol</th>\n",
       "      <td>0</td>\n",
       "      <td>0.0</td>\n",
       "    </tr>\n",
       "    <tr>\n",
       "      <th>carrier_dest_apt_vol</th>\n",
       "      <td>0</td>\n",
       "      <td>0.0</td>\n",
       "    </tr>\n",
       "    <tr>\n",
       "      <th>carrier_origin_apt_pct</th>\n",
       "      <td>0</td>\n",
       "      <td>0.0</td>\n",
       "    </tr>\n",
       "    <tr>\n",
       "      <th>carrier_dest_apt_pct</th>\n",
       "      <td>0</td>\n",
       "      <td>0.0</td>\n",
       "    </tr>\n",
       "    <tr>\n",
       "      <th>op_unique_carrier</th>\n",
       "      <td>0</td>\n",
       "      <td>0.0</td>\n",
       "    </tr>\n",
       "  </tbody>\n",
       "</table>\n",
       "</div>"
      ],
      "text/plain": [
       "                        total  percent\n",
       "mean_carrier_dep_delay      0      0.0\n",
       "mean_carrier_arr_delay      0      0.0\n",
       "origin                      0      0.0\n",
       "dest                        0      0.0\n",
       "flights                     0      0.0\n",
       "crs_elapsed_time            0      0.0\n",
       "distance                    0      0.0\n",
       "origin_airport_id           0      0.0\n",
       "dest_airport_id             0      0.0\n",
       "delay_occured               0      0.0\n",
       "month                       0      0.0\n",
       "day_of_week                 0      0.0\n",
       "day_of_month                0      0.0\n",
       "year                        0      0.0\n",
       "season                      0      0.0\n",
       "time_cat                    0      0.0\n",
       "avg_plane_velocity          0      0.0\n",
       "dep_time_haul               0      0.0\n",
       "arr_time_haul               0      0.0\n",
       "origin_state                0      0.0\n",
       "dest_state                  0      0.0\n",
       "origin_airport_volume       0      0.0\n",
       "dest_aiport_volume          0      0.0\n",
       "carrier_origin_apt_vol      0      0.0\n",
       "carrier_dest_apt_vol        0      0.0\n",
       "carrier_origin_apt_pct      0      0.0\n",
       "carrier_dest_apt_pct        0      0.0\n",
       "op_unique_carrier           0      0.0"
      ]
     },
     "execution_count": 798,
     "metadata": {},
     "output_type": "execute_result"
    }
   ],
   "source": [
    "print(df[['arr_delay']].isnull().any())\n",
    "total = model_df.isnull().sum().sort_values(ascending=False)\n",
    "percent = (model_df.isnull().sum()/model_df.isnull().count()).sort_values(ascending=False)\n",
    "missing_data = pd.concat([total, percent], axis=1, keys=['total', 'percent'])\n",
    "missing_data"
   ]
  },
  {
   "cell_type": "markdown",
   "id": "7412c21f",
   "metadata": {},
   "source": [
    "### Scaling Process (standard scaler), sidenote should we scale the target or no?"
   ]
  },
  {
   "cell_type": "code",
   "execution_count": 799,
   "id": "1c7e0b3c",
   "metadata": {},
   "outputs": [],
   "source": [
    "from sklearn import preprocessing\n",
    "ss = preprocessing.StandardScaler()\n",
    "df_train_scaled = pd.DataFrame(ss.fit_transform(model_df),columns = model_df.columns)\n",
    "df_target_scaled = pd.DataFrame(ss.fit_transform(df[['arr_delay']]))"
   ]
  },
  {
   "cell_type": "code",
   "execution_count": 800,
   "id": "31b33b07",
   "metadata": {},
   "outputs": [],
   "source": [
    "X = df_train_scaled \n",
    "y = df_target_scaled "
   ]
  },
  {
   "cell_type": "code",
   "execution_count": 801,
   "id": "d296a09e",
   "metadata": {},
   "outputs": [],
   "source": [
    "X_train, X_test, y_train, y_test = train_test_split(X,y,train_size=0.8, random_state=123)"
   ]
  },
  {
   "cell_type": "markdown",
   "id": "f1b803c8",
   "metadata": {},
   "source": [
    "### PCA"
   ]
  },
  {
   "cell_type": "code",
   "execution_count": 820,
   "id": "e6d98e03",
   "metadata": {},
   "outputs": [
    {
     "data": {
      "image/png": "[encoded data removed]",
      "text/plain": [
       "<Figure size 432x288 with 1 Axes>"
      ]
     },
     "metadata": {
      "needs_background": "light"
     },
     "output_type": "display_data"
    }
   ],
   "source": [
    "from sklearn.decomposition import PCA #pca may not be optimal in this case\n",
    "pca =PCA(n_components=23)\n",
    "X_train= pd.DataFrame(pca.fit_transform(X_train))\n",
    "X_test = pd.DataFrame(pca.fit_transform(X_test))\n",
    "\n",
    "plt.plot(np.cumsum(np.round(pca.explained_variance_ratio_,decimals =3)*100))\n",
    "plt.title('PCA for model_df')\n",
    "plt.show()"
   ]
  },
  {
   "cell_type": "markdown",
   "id": "747c9661",
   "metadata": {},
   "source": [
    "### Linear Regression"
   ]
  },
  {
   "cell_type": "code",
   "execution_count": 821,
   "id": "f7467674",
   "metadata": {},
   "outputs": [],
   "source": [
    "lr_model = LinearRegression()\n",
    "lr_model.fit(X_train,y_train)\n",
    "lin_pred = lr_model.predict(X_test)"
   ]
  },
  {
   "cell_type": "code",
   "execution_count": 822,
   "id": "21594993",
   "metadata": {},
   "outputs": [
    {
     "name": "stdout",
     "output_type": "stream",
     "text": [
      "R^2: 0.259 (0.019)\n"
     ]
    }
   ],
   "source": [
    "kfold = KFold(n_splits=10, random_state=7, shuffle=True)\n",
    "scoring = 'r2'\n",
    "results = cross_val_score(lr_model, X_train, y_train, cv=kfold, scoring=scoring)\n",
    "print(\"R^2: %.3f (%.3f)\" % (results.mean(), results.std()))"
   ]
  },
  {
   "cell_type": "code",
   "execution_count": 823,
   "id": "757e23e8",
   "metadata": {},
   "outputs": [
    {
     "name": "stdout",
     "output_type": "stream",
     "text": [
      "Coefficient of determination: -0.41\n"
     ]
    }
   ],
   "source": [
    "print('Coefficient of determination: %.2f'\n",
    "      % r2_score(y_test,lin_pred))"
   ]
  },
  {
   "cell_type": "code",
   "execution_count": 824,
   "id": "2946370b",
   "metadata": {},
   "outputs": [
    {
     "data": {
      "text/plain": [
       "1.2771450604184331"
      ]
     },
     "execution_count": 824,
     "metadata": {},
     "output_type": "execute_result"
    }
   ],
   "source": [
    "metrics.mean_squared_error(y_test,lin_pred)"
   ]
  },
  {
   "cell_type": "code",
   "execution_count": 825,
   "id": "f6546f25",
   "metadata": {},
   "outputs": [
    {
     "data": {
      "text/plain": [
       "-0.407604276356792"
      ]
     },
     "execution_count": 825,
     "metadata": {},
     "output_type": "execute_result"
    }
   ],
   "source": [
    "metrics.r2_score(y_test,lin_pred) #? pca significantly reduced this lol"
   ]
  },
  {
   "cell_type": "code",
   "execution_count": 826,
   "id": "e60c9f16",
   "metadata": {},
   "outputs": [
    {
     "name": "stdout",
     "output_type": "stream",
     "text": [
      "[0.00266916]\n"
     ]
    }
   ],
   "source": [
    "print(lr_model.intercept_)"
   ]
  },
  {
   "cell_type": "code",
   "execution_count": 827,
   "id": "3347c18e",
   "metadata": {},
   "outputs": [
    {
     "data": {
      "image/png": "[encoded data removed]",
      "text/plain": [
       "<Figure size 432x288 with 1 Axes>"
      ]
     },
     "metadata": {
      "needs_background": "light"
     },
     "output_type": "display_data"
    }
   ],
   "source": [
    "plt.scatter(preds,y_test)\n",
    "plt.show()"
   ]
  },
  {
   "cell_type": "markdown",
   "id": "1618557d",
   "metadata": {},
   "source": [
    "### Ridge Regression"
   ]
  },
  {
   "cell_type": "code",
   "execution_count": 811,
   "id": "b3388f86",
   "metadata": {},
   "outputs": [],
   "source": [
    "from sklearn.linear_model import Ridge"
   ]
  },
  {
   "cell_type": "code",
   "execution_count": 812,
   "id": "01490729",
   "metadata": {},
   "outputs": [],
   "source": [
    "param_grid = {'alpha': [0.001,0.01,0.1,0.5]}\n",
    "grid = GridSearchCV(estimator = Ridge(normalize = True), param_grid = param_grid, n_jobs=-1, verbose = 1)"
   ]
  },
  {
   "cell_type": "code",
   "execution_count": 813,
   "id": "8c79292a",
   "metadata": {},
   "outputs": [
    {
     "name": "stdout",
     "output_type": "stream",
     "text": [
      "Fitting 5 folds for each of 4 candidates, totalling 20 fits\n"
     ]
    },
    {
     "data": {
      "text/plain": [
       "GridSearchCV(estimator=Ridge(normalize=True), n_jobs=-1,\n",
       "             param_grid={'alpha': [0.001, 0.01, 0.1, 0.5]}, verbose=1)"
      ]
     },
     "execution_count": 813,
     "metadata": {},
     "output_type": "execute_result"
    }
   ],
   "source": [
    "grid.fit(X_train,y_train)"
   ]
  },
  {
   "cell_type": "code",
   "execution_count": 814,
   "id": "4e0ce621",
   "metadata": {},
   "outputs": [
    {
     "data": {
      "text/plain": [
       "{'alpha': 0.001}"
      ]
     },
     "execution_count": 814,
     "metadata": {},
     "output_type": "execute_result"
    }
   ],
   "source": [
    "grid.best_params_"
   ]
  },
  {
   "cell_type": "code",
   "execution_count": 815,
   "id": "782a303d",
   "metadata": {},
   "outputs": [],
   "source": [
    "reg = Ridge(alpha = grid.best_params_['alpha'], normalize = True)"
   ]
  },
  {
   "cell_type": "code",
   "execution_count": 816,
   "id": "17d71f57",
   "metadata": {},
   "outputs": [
    {
     "data": {
      "text/plain": [
       "Ridge(alpha=0.001, normalize=True)"
      ]
     },
     "execution_count": 816,
     "metadata": {},
     "output_type": "execute_result"
    }
   ],
   "source": [
    "reg.fit(X_train,y_train)"
   ]
  },
  {
   "cell_type": "code",
   "execution_count": 817,
   "id": "4c4a18f0",
   "metadata": {},
   "outputs": [],
   "source": [
    "reg_pred = reg.predict(X_test)"
   ]
  },
  {
   "cell_type": "code",
   "execution_count": 818,
   "id": "345eaff3",
   "metadata": {},
   "outputs": [
    {
     "data": {
      "text/plain": [
       "1.2765147725484238"
      ]
     },
     "execution_count": 818,
     "metadata": {},
     "output_type": "execute_result"
    }
   ],
   "source": [
    "metrics.mean_squared_error(y_test,reg_pred)"
   ]
  },
  {
   "cell_type": "code",
   "execution_count": 819,
   "id": "22fffc85",
   "metadata": {},
   "outputs": [
    {
     "data": {
      "text/plain": [
       "-0.4069096051493801"
      ]
     },
     "execution_count": 819,
     "metadata": {},
     "output_type": "execute_result"
    }
   ],
   "source": [
    "metrics.r2_score(y_test,reg_pred)"
   ]
  },
  {
   "cell_type": "markdown",
   "id": "71edcfcb",
   "metadata": {},
   "source": [
    "### Rough Work"
   ]
  },
  {
   "cell_type": "code",
   "execution_count": null,
   "id": "ab2d37d1",
   "metadata": {},
   "outputs": [],
   "source": [
    "# df_copy.merge(pd.get_dummies(df_copy.month),left_index=True, right_index=True)"
   ]
  },
  {
   "cell_type": "code",
   "execution_count": 19,
   "id": "b267587a",
   "metadata": {},
   "outputs": [],
   "source": [
    "# orgdummy = pd.get_dummies(df_copy.origin, prefix='O_') #origin category encoding \n",
    "# df_copy_train = df_copy_train.merge(destdummy,left_index=True,right_index=True)\n",
    "# df_copy_train = df_copy_train.merge(orgdummy,left_index=True, right_index=True)\n",
    "# df_copy_train = df_copy_train.merge(pd.get_dummies(df_copy.month),left_index=True, right_index=True)\n",
    "# destdummy = pd.get_dummies(df_copy.dest, prefix='D_') #destination category encoding\n",
    "# df_copy_train['mkt_unique_carrier']= df_copy_train.groupby('mkt_unique_carrier').count()/len(df_copy_train)"
   ]
  },
  {
   "cell_type": "code",
   "execution_count": 25,
   "id": "95bbb640",
   "metadata": {},
   "outputs": [],
   "source": [
    "# encoder = OrdinalEncoder()\n",
    "# df_copy_train['mkt_unique_carrier'] = encoder.fit_transform(df_copy_train[['mkt_unique_carrier']])"
   ]
  },
  {
   "cell_type": "code",
   "execution_count": 190,
   "id": "e8295e13",
   "metadata": {},
   "outputs": [
    {
     "name": "stdout",
     "output_type": "stream",
     "text": [
      "0\n"
     ]
    }
   ],
   "source": [
    "# count =0\n",
    "# for i in range (len(df_copy_train)):\n",
    "#     if df_copy_train.iloc[i].dtype == 'object':\n",
    "#         count +=1 simply verifying we only have numeric data for our regression models\n",
    "# print(count)"
   ]
  },
  {
   "cell_type": "markdown",
   "id": "55b1fbe2",
   "metadata": {},
   "source": []
  },
  {
   "cell_type": "code",
   "execution_count": 769,
   "id": "89972d66",
   "metadata": {},
   "outputs": [
    {
     "data": {
      "text/plain": [
       "28"
      ]
     },
     "execution_count": 769,
     "metadata": {},
     "output_type": "execute_result"
    }
   ],
   "source": [
    "len(model_df.columns)"
   ]
  },
  {
   "cell_type": "code",
   "execution_count": null,
   "id": "3849c2e9",
   "metadata": {},
   "outputs": [],
   "source": []
  },
  {
   "cell_type": "code",
   "execution_count": null,
   "id": "649285ce",
   "metadata": {},
   "outputs": [],
   "source": []
  },
  {
   "cell_type": "code",
   "execution_count": null,
   "id": "e546160a",
   "metadata": {},
   "outputs": [],
   "source": []
  },
  {
   "cell_type": "code",
   "execution_count": 767,
   "id": "48445f46",
   "metadata": {},
   "outputs": [
    {
     "data": {
      "text/html": [
       "<div>\n",
       "<style scoped>\n",
       "    .dataframe tbody tr th:only-of-type {\n",
       "        vertical-align: middle;\n",
       "    }\n",
       "\n",
       "    .dataframe tbody tr th {\n",
       "        vertical-align: top;\n",
       "    }\n",
       "\n",
       "    .dataframe thead th {\n",
       "        text-align: right;\n",
       "    }\n",
       "</style>\n",
       "<table border=\"1\" class=\"dataframe\">\n",
       "  <thead>\n",
       "    <tr style=\"text-align: right;\">\n",
       "      <th></th>\n",
       "      <th>0</th>\n",
       "    </tr>\n",
       "  </thead>\n",
       "  <tbody>\n",
       "    <tr>\n",
       "      <th>82679</th>\n",
       "      <td>-0.467449</td>\n",
       "    </tr>\n",
       "    <tr>\n",
       "      <th>44120</th>\n",
       "      <td>1.033628</td>\n",
       "    </tr>\n",
       "    <tr>\n",
       "      <th>123281</th>\n",
       "      <td>0.193025</td>\n",
       "    </tr>\n",
       "    <tr>\n",
       "      <th>35163</th>\n",
       "      <td>0.293096</td>\n",
       "    </tr>\n",
       "    <tr>\n",
       "      <th>74445</th>\n",
       "      <td>-0.267305</td>\n",
       "    </tr>\n",
       "    <tr>\n",
       "      <th>...</th>\n",
       "      <td>...</td>\n",
       "    </tr>\n",
       "    <tr>\n",
       "      <th>155280</th>\n",
       "      <td>0.092953</td>\n",
       "    </tr>\n",
       "    <tr>\n",
       "      <th>26680</th>\n",
       "      <td>-0.447435</td>\n",
       "    </tr>\n",
       "    <tr>\n",
       "      <th>113559</th>\n",
       "      <td>-0.527492</td>\n",
       "    </tr>\n",
       "    <tr>\n",
       "      <th>191658</th>\n",
       "      <td>0.673369</td>\n",
       "    </tr>\n",
       "    <tr>\n",
       "      <th>105973</th>\n",
       "      <td>-0.967808</td>\n",
       "    </tr>\n",
       "  </tbody>\n",
       "</table>\n",
       "<p>39311 rows × 1 columns</p>\n",
       "</div>"
      ],
      "text/plain": [
       "               0\n",
       "82679  -0.467449\n",
       "44120   1.033628\n",
       "123281  0.193025\n",
       "35163   0.293096\n",
       "74445  -0.267305\n",
       "...          ...\n",
       "155280  0.092953\n",
       "26680  -0.447435\n",
       "113559 -0.527492\n",
       "191658  0.673369\n",
       "105973 -0.967808\n",
       "\n",
       "[39311 rows x 1 columns]"
      ]
     },
     "execution_count": 767,
     "metadata": {},
     "output_type": "execute_result"
    }
   ],
   "source": [
    "y_test"
   ]
  },
  {
   "cell_type": "code",
   "execution_count": 461,
   "id": "59dca6cb",
   "metadata": {},
   "outputs": [
    {
     "data": {
      "text/plain": [
       "array([[-0.37571865],\n",
       "       [ 0.71979391],\n",
       "       [ 0.72071729],\n",
       "       ...,\n",
       "       [-0.30411733],\n",
       "       [ 0.6098071 ],\n",
       "       [-0.26186715]])"
      ]
     },
     "execution_count": 461,
     "metadata": {},
     "output_type": "execute_result"
    }
   ],
   "source": [
    "preds"
   ]
  },
  {
   "cell_type": "code",
   "execution_count": 497,
   "id": "bc10e6b9",
   "metadata": {},
   "outputs": [
    {
     "ename": "ValueError",
     "evalue": "If using all scalar values, you must pass an index",
     "output_type": "error",
     "traceback": [
      "\u001b[0;31m---------------------------------------------------------------------------\u001b[0m",
      "\u001b[0;31mValueError\u001b[0m                                Traceback (most recent call last)",
      "\u001b[0;32m<ipython-input-497-ec5e65f0ea32>\u001b[0m in \u001b[0;36m<module>\u001b[0;34m\u001b[0m\n\u001b[0;32m----> 1\u001b[0;31m \u001b[0mdf_lr\u001b[0m \u001b[0;34m=\u001b[0m \u001b[0mpd\u001b[0m\u001b[0;34m.\u001b[0m\u001b[0mDataFrame\u001b[0m\u001b[0;34m(\u001b[0m\u001b[0;34m{\u001b[0m\u001b[0;34m'Actual'\u001b[0m\u001b[0;34m:\u001b[0m \u001b[0my_test\u001b[0m\u001b[0;34m,\u001b[0m \u001b[0;34m'Predicted'\u001b[0m\u001b[0;34m:\u001b[0m\u001b[0mpreds\u001b[0m\u001b[0;34m}\u001b[0m\u001b[0;34m)\u001b[0m\u001b[0;34m\u001b[0m\u001b[0;34m\u001b[0m\u001b[0m\n\u001b[0m",
      "\u001b[0;32m~/anaconda/envs/test_env/lib/python3.6/site-packages/pandas/core/frame.py\u001b[0m in \u001b[0;36m__init__\u001b[0;34m(self, data, index, columns, dtype, copy)\u001b[0m\n\u001b[1;32m    466\u001b[0m \u001b[0;34m\u001b[0m\u001b[0m\n\u001b[1;32m    467\u001b[0m         \u001b[0;32melif\u001b[0m \u001b[0misinstance\u001b[0m\u001b[0;34m(\u001b[0m\u001b[0mdata\u001b[0m\u001b[0;34m,\u001b[0m \u001b[0mdict\u001b[0m\u001b[0;34m)\u001b[0m\u001b[0;34m:\u001b[0m\u001b[0;34m\u001b[0m\u001b[0;34m\u001b[0m\u001b[0m\n\u001b[0;32m--> 468\u001b[0;31m             \u001b[0mmgr\u001b[0m \u001b[0;34m=\u001b[0m \u001b[0minit_dict\u001b[0m\u001b[0;34m(\u001b[0m\u001b[0mdata\u001b[0m\u001b[0;34m,\u001b[0m \u001b[0mindex\u001b[0m\u001b[0;34m,\u001b[0m \u001b[0mcolumns\u001b[0m\u001b[0;34m,\u001b[0m \u001b[0mdtype\u001b[0m\u001b[0;34m=\u001b[0m\u001b[0mdtype\u001b[0m\u001b[0;34m)\u001b[0m\u001b[0;34m\u001b[0m\u001b[0;34m\u001b[0m\u001b[0m\n\u001b[0m\u001b[1;32m    469\u001b[0m         \u001b[0;32melif\u001b[0m \u001b[0misinstance\u001b[0m\u001b[0;34m(\u001b[0m\u001b[0mdata\u001b[0m\u001b[0;34m,\u001b[0m \u001b[0mma\u001b[0m\u001b[0;34m.\u001b[0m\u001b[0mMaskedArray\u001b[0m\u001b[0;34m)\u001b[0m\u001b[0;34m:\u001b[0m\u001b[0;34m\u001b[0m\u001b[0;34m\u001b[0m\u001b[0m\n\u001b[1;32m    470\u001b[0m             \u001b[0;32mimport\u001b[0m \u001b[0mnumpy\u001b[0m\u001b[0;34m.\u001b[0m\u001b[0mma\u001b[0m\u001b[0;34m.\u001b[0m\u001b[0mmrecords\u001b[0m \u001b[0;32mas\u001b[0m \u001b[0mmrecords\u001b[0m\u001b[0;34m\u001b[0m\u001b[0;34m\u001b[0m\u001b[0m\n",
      "\u001b[0;32m~/anaconda/envs/test_env/lib/python3.6/site-packages/pandas/core/internals/construction.py\u001b[0m in \u001b[0;36minit_dict\u001b[0;34m(data, index, columns, dtype)\u001b[0m\n\u001b[1;32m    281\u001b[0m             \u001b[0marr\u001b[0m \u001b[0;32mif\u001b[0m \u001b[0;32mnot\u001b[0m \u001b[0mis_datetime64tz_dtype\u001b[0m\u001b[0;34m(\u001b[0m\u001b[0marr\u001b[0m\u001b[0;34m)\u001b[0m \u001b[0;32melse\u001b[0m \u001b[0marr\u001b[0m\u001b[0;34m.\u001b[0m\u001b[0mcopy\u001b[0m\u001b[0;34m(\u001b[0m\u001b[0;34m)\u001b[0m \u001b[0;32mfor\u001b[0m \u001b[0marr\u001b[0m \u001b[0;32min\u001b[0m \u001b[0marrays\u001b[0m\u001b[0;34m\u001b[0m\u001b[0;34m\u001b[0m\u001b[0m\n\u001b[1;32m    282\u001b[0m         ]\n\u001b[0;32m--> 283\u001b[0;31m     \u001b[0;32mreturn\u001b[0m \u001b[0marrays_to_mgr\u001b[0m\u001b[0;34m(\u001b[0m\u001b[0marrays\u001b[0m\u001b[0;34m,\u001b[0m \u001b[0mdata_names\u001b[0m\u001b[0;34m,\u001b[0m \u001b[0mindex\u001b[0m\u001b[0;34m,\u001b[0m \u001b[0mcolumns\u001b[0m\u001b[0;34m,\u001b[0m \u001b[0mdtype\u001b[0m\u001b[0;34m=\u001b[0m\u001b[0mdtype\u001b[0m\u001b[0;34m)\u001b[0m\u001b[0;34m\u001b[0m\u001b[0;34m\u001b[0m\u001b[0m\n\u001b[0m\u001b[1;32m    284\u001b[0m \u001b[0;34m\u001b[0m\u001b[0m\n\u001b[1;32m    285\u001b[0m \u001b[0;34m\u001b[0m\u001b[0m\n",
      "\u001b[0;32m~/anaconda/envs/test_env/lib/python3.6/site-packages/pandas/core/internals/construction.py\u001b[0m in \u001b[0;36marrays_to_mgr\u001b[0;34m(arrays, arr_names, index, columns, dtype, verify_integrity)\u001b[0m\n\u001b[1;32m     76\u001b[0m         \u001b[0;31m# figure out the index, if necessary\u001b[0m\u001b[0;34m\u001b[0m\u001b[0;34m\u001b[0m\u001b[0;34m\u001b[0m\u001b[0m\n\u001b[1;32m     77\u001b[0m         \u001b[0;32mif\u001b[0m \u001b[0mindex\u001b[0m \u001b[0;32mis\u001b[0m \u001b[0;32mNone\u001b[0m\u001b[0;34m:\u001b[0m\u001b[0;34m\u001b[0m\u001b[0;34m\u001b[0m\u001b[0m\n\u001b[0;32m---> 78\u001b[0;31m             \u001b[0mindex\u001b[0m \u001b[0;34m=\u001b[0m \u001b[0mextract_index\u001b[0m\u001b[0;34m(\u001b[0m\u001b[0marrays\u001b[0m\u001b[0;34m)\u001b[0m\u001b[0;34m\u001b[0m\u001b[0;34m\u001b[0m\u001b[0m\n\u001b[0m\u001b[1;32m     79\u001b[0m         \u001b[0;32melse\u001b[0m\u001b[0;34m:\u001b[0m\u001b[0;34m\u001b[0m\u001b[0;34m\u001b[0m\u001b[0m\n\u001b[1;32m     80\u001b[0m             \u001b[0mindex\u001b[0m \u001b[0;34m=\u001b[0m \u001b[0mensure_index\u001b[0m\u001b[0;34m(\u001b[0m\u001b[0mindex\u001b[0m\u001b[0;34m)\u001b[0m\u001b[0;34m\u001b[0m\u001b[0;34m\u001b[0m\u001b[0m\n",
      "\u001b[0;32m~/anaconda/envs/test_env/lib/python3.6/site-packages/pandas/core/internals/construction.py\u001b[0m in \u001b[0;36mextract_index\u001b[0;34m(data)\u001b[0m\n\u001b[1;32m    385\u001b[0m \u001b[0;34m\u001b[0m\u001b[0m\n\u001b[1;32m    386\u001b[0m         \u001b[0;32mif\u001b[0m \u001b[0;32mnot\u001b[0m \u001b[0mindexes\u001b[0m \u001b[0;32mand\u001b[0m \u001b[0;32mnot\u001b[0m \u001b[0mraw_lengths\u001b[0m\u001b[0;34m:\u001b[0m\u001b[0;34m\u001b[0m\u001b[0;34m\u001b[0m\u001b[0m\n\u001b[0;32m--> 387\u001b[0;31m             \u001b[0;32mraise\u001b[0m \u001b[0mValueError\u001b[0m\u001b[0;34m(\u001b[0m\u001b[0;34m\"If using all scalar values, you must pass an index\"\u001b[0m\u001b[0;34m)\u001b[0m\u001b[0;34m\u001b[0m\u001b[0;34m\u001b[0m\u001b[0m\n\u001b[0m\u001b[1;32m    388\u001b[0m \u001b[0;34m\u001b[0m\u001b[0m\n\u001b[1;32m    389\u001b[0m         \u001b[0;32mif\u001b[0m \u001b[0mhave_series\u001b[0m\u001b[0;34m:\u001b[0m\u001b[0;34m\u001b[0m\u001b[0;34m\u001b[0m\u001b[0m\n",
      "\u001b[0;31mValueError\u001b[0m: If using all scalar values, you must pass an index"
     ]
    }
   ],
   "source": [
    "df_lr = pd.DataFrame({'Actual': y_test, 'Predicted':preds})"
   ]
  },
  {
   "cell_type": "code",
   "execution_count": null,
   "id": "43d18074",
   "metadata": {},
   "outputs": [],
   "source": []
  },
  {
   "cell_type": "code",
   "execution_count": null,
   "id": "d33ae477",
   "metadata": {},
   "outputs": [],
   "source": []
  },
  {
   "cell_type": "code",
   "execution_count": 271,
   "id": "80735884",
   "metadata": {},
   "outputs": [],
   "source": [
    "# # Cleaning Functions\n",
    "# def eliminateCorrFeatures(coef_, df):\n",
    "#     \"\"\"\n",
    "#     coef_ should be between 0 and 1\n",
    "#     \"\"\"\n",
    "#     # step 1\n",
    "#     df_corr = df.corr().abs()\n",
    "\n",
    "#     # step 2\n",
    "#     indices = np.where(df_corr > coef_) \n",
    "#     indices = [(df_corr.index[x], df_corr.columns[y]) for x, y in zip(*indices)\n",
    "#                                         if x != y and x < y]\n",
    "\n",
    "#     # step 3\n",
    "#     for idx in indices: #each pair\n",
    "#         try:\n",
    "#             df.drop(idx[1], axis = 1, inplace=True)\n",
    "#         except KeyError:\n",
    "#             pass\n",
    "#     return df\n",
    "\n",
    "# from sklearn.feature_selection import VarianceThreshold\n",
    "# def eliminateLowVariance(x, df):\n",
    "#     \"\"\"\n",
    "#     x should be between 0 and 1\n",
    "#     \"\"\"\n",
    "#     vt = VarianceThreshold(x)\n",
    "#     vt.fit(df)\n",
    "#     return df.loc[:, vt.variances_ > x]\n",
    "\n",
    "\n",
    "# def calc_specificity(y_actual, y_pred, thresh):\n",
    "#     return sum((y_pred < thresh) & (y_actual == 0)) / sum(y_actual == 0)\n",
    "\n",
    "# def print_report(y_actual, y_pred, thresh):\n",
    "#     auc = skm.roc_auc_score(y_actual, y_pred)\n",
    "#     accuracy = skm.accuracy_score(y_actual, (y_pred > thresh))\n",
    "#     recall = skm.recall_score(y_actual, (y_pred > thresh))\n",
    "#     precision = skm.precision_score(y_actual, (y_pred > thresh))\n",
    "#     specificity = calc_specificity(y_actual, y_pred, thresh)\n",
    "#     print(f'AUC:{auc:%.3f}')\n",
    "#     print(f'accuracy:{accuracy:%.3f}')\n",
    "#     print(f'recall:{recall:%.3f}')\n",
    "#     print(f'precision:{precision:%.3f}')\n",
    "#     print(f'specificity:{specificity:%.3f}')\n",
    "#     print(' ')\n",
    "#     return auc, accuracy, recall, precision, specificity\n",
    "\n",
    "\n"
   ]
  },
  {
   "cell_type": "code",
   "execution_count": 270,
   "id": "1418ba6b",
   "metadata": {},
   "outputs": [],
   "source": [
    "#One way of encoding our categorical data\n",
    "# lb = LabelBinarizer()\n",
    "# lb = lb.fit(df_copy.month.tolist()) got seperate classes but once it was called to transform, didn't give the desired output(class for each month)\n",
    "# lb.classes_\n",
    "# df_copy['month'] = lb.transform(df_copy['month'].tolist())\n",
    "\n",
    "# lb = LabelBinarizer()\n",
    "# lb = lb.fit(df_copy_train.origin.tolist()) #got seperate classes but once it was called to transform, didn't give the desired output(class for each month)\n",
    "# lb.classes_\n",
    "# df = lb.transform(df_copy_train.origin.tolist()).sum()\n",
    "\n",
    "#df_copy_train\n",
    "\n",
    "# df_copy_train = df_copy_train.join(pd.DataFrame(lb.fit_transform(df_copy_train[\"origin\"]),\n",
    "#columns=lb.classes_, \n",
    "# index=df_copy_train.index))\n",
    "\n",
    "\n",
    "#Can't use any of the delay features\n",
    "# delay_list = ['dep_delay','arr_delay','carrier_delay','weather_delay','nas_delay','security_delay','late_aircraft_delay']\n",
    "\n",
    "#\n",
    "# fill_na(df_copy)\n",
    "# df_copy['total_delay'] = df_copy.iloc[:,-5:].sum(axis=1)\n",
    "# df_copy['is_delayed'] = df_copy.apply(lambda x: (0 if x['total_delay'] <= 0 else 1),  axis=1)\n",
    "### length of flight could be another contributor, could encode a flight (SHORT MEDIUM LONG)\n",
    "# \n",
    "# def haul_length(df,col):\n",
    "#     for i in df[col]:\n",
    "#         if i <=180:\n",
    "#             df['time_cat'] = 0.0 #short\n",
    "#         elif(i>180) & (i < 360):\n",
    "#             df['time_cat'] = 1.0 #medium\n",
    "#         else:\n",
    "#             df['time_cat']= 2.0 #long\n",
    "# model_df.drop(columns=['departure_cat', 'haul_hour'], axis=1, inplace=True)\n",
    "# model_df.drop(columns=['time_haul'],axis=1,inplace=True)"
   ]
  }
 ],
 "metadata": {
  "kernelspec": {
   "display_name": "arjun_LHL_env",
   "language": "python",
   "name": "arjun_lhl_env"
  },
  "language_info": {
   "codemirror_mode": {
    "name": "ipython",
    "version": 3
   },
   "file_extension": ".py",
   "mimetype": "text/x-python",
   "name": "python",
   "nbconvert_exporter": "python",
   "pygments_lexer": "ipython3",
   "version": "3.6.13"
  }
 },
 "nbformat": 4,
 "nbformat_minor": 5
}
