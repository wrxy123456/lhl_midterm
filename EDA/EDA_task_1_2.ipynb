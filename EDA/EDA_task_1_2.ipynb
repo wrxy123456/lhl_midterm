{
 "cells": [
  {
   "cell_type": "code",
   "execution_count": 2,
   "id": "2cae88d0",
   "metadata": {},
   "outputs": [],
   "source": [
    "import pandas as pd\n",
    "import sqlalchemy\n",
    "from sqlalchemy import create_engine\n",
    "import psycopg2\n",
    "import matplotlib.pyplot as plt\n",
    "import seaborn as sns\n",
    "import scipy.stats as stats\n",
    "import plotly.graph_objects as go\n",
    "import datetime\n",
    "import plotly.express as px\n",
    "import json\n",
    "import requests as re\n",
    "# conda install -c conda-forge psycopg2"
   ]
  },
  {
   "cell_type": "code",
   "execution_count": 54,
   "id": "178d9a1d-2d61-4099-a0b8-af457c9a4d1d",
   "metadata": {},
   "outputs": [],
   "source": [
    "import warnings\n",
    "warnings.filterwarnings('ignore')"
   ]
  },
  {
   "cell_type": "markdown",
   "id": "7f7245a2",
   "metadata": {},
   "source": [
    "### Postgres Database Creditientials with Jupyter Lab"
   ]
  },
  {
   "cell_type": "code",
   "execution_count": 3,
   "id": "4ffc11c6",
   "metadata": {},
   "outputs": [],
   "source": [
    "# from sqlalchemy import create_engine\n",
    "# # Postgres username, password, and database name\n",
    "# POSTGRES_DBNAME=\"mid_term_project\"\n",
    "# POSTGRES_ADDRESS = 'mid-term-project.ca2jkepgjpne.us-east-2.rds.amazonaws.com' \n",
    "# POSTGRES_PORT = '5432'\n",
    "# POSTGRES_USERNAME = 'lhl_student' \n",
    "# POSTGRES_PASSWORD = 'lhl_student' \n",
    "# # A long string that contains the necessary Postgres login information\n",
    "# postgres_str = ('postgresql://{username}:{password}@{ipaddress}:{port}/{dbname}'.format(username=POSTGRES_USERNAME,password=POSTGRES_PASSWORD,ipaddress=POSTGRES_ADDRESS,\n",
    "# port=POSTGRES_PORT,dbname=POSTGRES_DBNAME))\n",
    "# # Create the connection\n",
    "# cnx = create_engine(postgres_str)"
   ]
  },
  {
   "cell_type": "markdown",
   "id": "af2a00f5",
   "metadata": {},
   "source": [
    "### Sample Query Syntax\n"
   ]
  },
  {
   "cell_type": "code",
   "execution_count": 4,
   "id": "a89f1c5b",
   "metadata": {},
   "outputs": [],
   "source": [
    "# pd.read_sql_query('''SELECT * FROM flights WHERE mkt_carrier_fl_num > 5600 LIMIT 10;''', cnx)\n",
    "# passenger_df = pd.read_sql_query('''SELECT airline_id,air_time,distance,carrier_name FROM passengers ORDER BY RANDOM() LIMIT 200000''',cnx)"
   ]
  },
  {
   "cell_type": "code",
   "execution_count": 5,
   "id": "0341d646",
   "metadata": {},
   "outputs": [
    {
     "data": {
      "text/html": [
       "<div>\n",
       "<style scoped>\n",
       "    .dataframe tbody tr th:only-of-type {\n",
       "        vertical-align: middle;\n",
       "    }\n",
       "\n",
       "    .dataframe tbody tr th {\n",
       "        vertical-align: top;\n",
       "    }\n",
       "\n",
       "    .dataframe thead th {\n",
       "        text-align: right;\n",
       "    }\n",
       "</style>\n",
       "<table border=\"1\" class=\"dataframe\">\n",
       "  <thead>\n",
       "    <tr style=\"text-align: right;\">\n",
       "      <th></th>\n",
       "      <th>airline_id</th>\n",
       "      <th>air_time</th>\n",
       "      <th>distance</th>\n",
       "      <th>carrier_name</th>\n",
       "    </tr>\n",
       "  </thead>\n",
       "  <tbody>\n",
       "    <tr>\n",
       "      <th>0</th>\n",
       "      <td>20436</td>\n",
       "      <td>789.0</td>\n",
       "      <td>771.0</td>\n",
       "      <td>Frontier Airlines Inc.</td>\n",
       "    </tr>\n",
       "    <tr>\n",
       "      <th>1</th>\n",
       "      <td>21629</td>\n",
       "      <td>35.0</td>\n",
       "      <td>0.0</td>\n",
       "      <td>Western Global</td>\n",
       "    </tr>\n",
       "    <tr>\n",
       "      <th>2</th>\n",
       "      <td>21352</td>\n",
       "      <td>180.0</td>\n",
       "      <td>1303.0</td>\n",
       "      <td>Avjet Corporation</td>\n",
       "    </tr>\n",
       "    <tr>\n",
       "      <th>3</th>\n",
       "      <td>19393</td>\n",
       "      <td>2532.0</td>\n",
       "      <td>534.0</td>\n",
       "      <td>Southwest Airlines Co.</td>\n",
       "    </tr>\n",
       "    <tr>\n",
       "      <th>4</th>\n",
       "      <td>20336</td>\n",
       "      <td>796.0</td>\n",
       "      <td>49.0</td>\n",
       "      <td>Hageland Aviation Service</td>\n",
       "    </tr>\n",
       "    <tr>\n",
       "      <th>...</th>\n",
       "      <td>...</td>\n",
       "      <td>...</td>\n",
       "      <td>...</td>\n",
       "      <td>...</td>\n",
       "    </tr>\n",
       "    <tr>\n",
       "      <th>199995</th>\n",
       "      <td>19874</td>\n",
       "      <td>28.0</td>\n",
       "      <td>129.0</td>\n",
       "      <td>Air Transport International</td>\n",
       "    </tr>\n",
       "    <tr>\n",
       "      <th>199996</th>\n",
       "      <td>19917</td>\n",
       "      <td>103.0</td>\n",
       "      <td>640.0</td>\n",
       "      <td>United Parcel Service</td>\n",
       "    </tr>\n",
       "    <tr>\n",
       "      <th>199997</th>\n",
       "      <td>20226</td>\n",
       "      <td>105.0</td>\n",
       "      <td>69.0</td>\n",
       "      <td>Spernak Airways Inc.</td>\n",
       "    </tr>\n",
       "    <tr>\n",
       "      <th>199998</th>\n",
       "      <td>20107</td>\n",
       "      <td>725.0</td>\n",
       "      <td>120.0</td>\n",
       "      <td>Federal Express Corporation</td>\n",
       "    </tr>\n",
       "    <tr>\n",
       "      <th>199999</th>\n",
       "      <td>19977</td>\n",
       "      <td>404.0</td>\n",
       "      <td>416.0</td>\n",
       "      <td>United Air Lines Inc.</td>\n",
       "    </tr>\n",
       "  </tbody>\n",
       "</table>\n",
       "<p>200000 rows × 4 columns</p>\n",
       "</div>"
      ],
      "text/plain": [
       "        airline_id  air_time  distance                 carrier_name\n",
       "0            20436     789.0     771.0       Frontier Airlines Inc.\n",
       "1            21629      35.0       0.0               Western Global\n",
       "2            21352     180.0    1303.0            Avjet Corporation\n",
       "3            19393    2532.0     534.0       Southwest Airlines Co.\n",
       "4            20336     796.0      49.0    Hageland Aviation Service\n",
       "...            ...       ...       ...                          ...\n",
       "199995       19874      28.0     129.0  Air Transport International\n",
       "199996       19917     103.0     640.0        United Parcel Service\n",
       "199997       20226     105.0      69.0         Spernak Airways Inc.\n",
       "199998       20107     725.0     120.0  Federal Express Corporation\n",
       "199999       19977     404.0     416.0        United Air Lines Inc.\n",
       "\n",
       "[200000 rows x 4 columns]"
      ]
     },
     "execution_count": 5,
     "metadata": {},
     "output_type": "execute_result"
    }
   ],
   "source": [
    "passenger_df #can group by arilines"
   ]
  },
  {
   "cell_type": "markdown",
   "id": "db7d6356",
   "metadata": {},
   "source": [
    "### Flights Database from Postgres"
   ]
  },
  {
   "cell_type": "code",
   "execution_count": 66,
   "id": "ebd8ba2b-d2a6-40ea-bac0-8806c1c3dbd3",
   "metadata": {},
   "outputs": [],
   "source": [
    "flights200k = pd.read_csv('Data/FLIGHTS_cleaned.csv')"
   ]
  },
  {
   "cell_type": "code",
   "execution_count": 67,
   "id": "29be4ed1-e1e5-4d5c-89da-8c796239983e",
   "metadata": {},
   "outputs": [
    {
     "data": {
      "text/html": [
       "<div>\n",
       "<style scoped>\n",
       "    .dataframe tbody tr th:only-of-type {\n",
       "        vertical-align: middle;\n",
       "    }\n",
       "\n",
       "    .dataframe tbody tr th {\n",
       "        vertical-align: top;\n",
       "    }\n",
       "\n",
       "    .dataframe thead th {\n",
       "        text-align: right;\n",
       "    }\n",
       "</style>\n",
       "<table border=\"1\" class=\"dataframe\">\n",
       "  <thead>\n",
       "    <tr style=\"text-align: right;\">\n",
       "      <th></th>\n",
       "      <th>weather_delay</th>\n",
       "      <th>dep_delay</th>\n",
       "      <th>arr_delay</th>\n",
       "      <th>carrier_delay</th>\n",
       "      <th>nas_delay</th>\n",
       "      <th>security_delay</th>\n",
       "      <th>late_aircraft_delay</th>\n",
       "    </tr>\n",
       "  </thead>\n",
       "  <tbody>\n",
       "    <tr>\n",
       "      <th>count</th>\n",
       "      <td>37551.000000</td>\n",
       "      <td>196498.000000</td>\n",
       "      <td>195976.000000</td>\n",
       "      <td>37551.000000</td>\n",
       "      <td>37551.000000</td>\n",
       "      <td>37551.000000</td>\n",
       "      <td>37551.000000</td>\n",
       "    </tr>\n",
       "    <tr>\n",
       "      <th>mean</th>\n",
       "      <td>3.707651</td>\n",
       "      <td>10.416727</td>\n",
       "      <td>5.371510</td>\n",
       "      <td>20.505073</td>\n",
       "      <td>16.245746</td>\n",
       "      <td>0.095177</td>\n",
       "      <td>27.063647</td>\n",
       "    </tr>\n",
       "    <tr>\n",
       "      <th>std</th>\n",
       "      <td>32.108836</td>\n",
       "      <td>47.964137</td>\n",
       "      <td>50.037171</td>\n",
       "      <td>64.455562</td>\n",
       "      <td>38.112379</td>\n",
       "      <td>3.207904</td>\n",
       "      <td>52.467446</td>\n",
       "    </tr>\n",
       "    <tr>\n",
       "      <th>min</th>\n",
       "      <td>0.000000</td>\n",
       "      <td>-104.000000</td>\n",
       "      <td>-233.000000</td>\n",
       "      <td>0.000000</td>\n",
       "      <td>0.000000</td>\n",
       "      <td>0.000000</td>\n",
       "      <td>0.000000</td>\n",
       "    </tr>\n",
       "    <tr>\n",
       "      <th>25%</th>\n",
       "      <td>0.000000</td>\n",
       "      <td>-6.000000</td>\n",
       "      <td>-15.000000</td>\n",
       "      <td>0.000000</td>\n",
       "      <td>0.000000</td>\n",
       "      <td>0.000000</td>\n",
       "      <td>0.000000</td>\n",
       "    </tr>\n",
       "    <tr>\n",
       "      <th>50%</th>\n",
       "      <td>0.000000</td>\n",
       "      <td>-2.000000</td>\n",
       "      <td>-6.000000</td>\n",
       "      <td>0.000000</td>\n",
       "      <td>3.000000</td>\n",
       "      <td>0.000000</td>\n",
       "      <td>3.000000</td>\n",
       "    </tr>\n",
       "    <tr>\n",
       "      <th>75%</th>\n",
       "      <td>0.000000</td>\n",
       "      <td>6.000000</td>\n",
       "      <td>8.000000</td>\n",
       "      <td>17.000000</td>\n",
       "      <td>20.000000</td>\n",
       "      <td>0.000000</td>\n",
       "      <td>33.000000</td>\n",
       "    </tr>\n",
       "    <tr>\n",
       "      <th>max</th>\n",
       "      <td>1287.000000</td>\n",
       "      <td>1628.000000</td>\n",
       "      <td>1631.000000</td>\n",
       "      <td>1628.000000</td>\n",
       "      <td>1476.000000</td>\n",
       "      <td>395.000000</td>\n",
       "      <td>1396.000000</td>\n",
       "    </tr>\n",
       "  </tbody>\n",
       "</table>\n",
       "</div>"
      ],
      "text/plain": [
       "       weather_delay      dep_delay      arr_delay  carrier_delay  \\\n",
       "count   37551.000000  196498.000000  195976.000000   37551.000000   \n",
       "mean        3.707651      10.416727       5.371510      20.505073   \n",
       "std        32.108836      47.964137      50.037171      64.455562   \n",
       "min         0.000000    -104.000000    -233.000000       0.000000   \n",
       "25%         0.000000      -6.000000     -15.000000       0.000000   \n",
       "50%         0.000000      -2.000000      -6.000000       0.000000   \n",
       "75%         0.000000       6.000000       8.000000      17.000000   \n",
       "max      1287.000000    1628.000000    1631.000000    1628.000000   \n",
       "\n",
       "          nas_delay  security_delay  late_aircraft_delay  \n",
       "count  37551.000000    37551.000000         37551.000000  \n",
       "mean      16.245746        0.095177            27.063647  \n",
       "std       38.112379        3.207904            52.467446  \n",
       "min        0.000000        0.000000             0.000000  \n",
       "25%        0.000000        0.000000             0.000000  \n",
       "50%        3.000000        0.000000             3.000000  \n",
       "75%       20.000000        0.000000            33.000000  \n",
       "max     1476.000000      395.000000          1396.000000  "
      ]
     },
     "execution_count": 67,
     "metadata": {},
     "output_type": "execute_result"
    }
   ],
   "source": [
    "#examining the different sorts of delays that can occur\n",
    "flights200k[['weather_delay','dep_delay','arr_delay','carrier_delay', 'nas_delay','security_delay','late_aircraft_delay']].describe()"
   ]
  },
  {
   "cell_type": "code",
   "execution_count": 65,
   "id": "2f3928db-2320-404a-a57b-a59f6bd54459",
   "metadata": {},
   "outputs": [
    {
     "data": {
      "image/png": "[encoded data removed]",
      "text/plain": [
       "<Figure size 864x576 with 2 Axes>"
      ]
     },
     "metadata": {
      "needs_background": "light"
     },
     "output_type": "display_data"
    }
   ],
   "source": [
    "fig, ax = plt.subplots(figsize=(12,8))\n",
    "sub_sample_corr = flights200k.corr()\n",
    "sns.heatmap(sub_sample_corr, cmap='coolwarm_r', annot_kws={'size':20})\n",
    "ax.set_title('Flights Correlation Matrix', fontsize=14)\n",
    "plt.show()"
   ]
  },
  {
   "cell_type": "markdown",
   "id": "44c455da",
   "metadata": {},
   "source": [
    "### Passengers Database from Postgres"
   ]
  },
  {
   "cell_type": "code",
   "execution_count": 68,
   "id": "d3551da2",
   "metadata": {},
   "outputs": [
    {
     "name": "stdout",
     "output_type": "stream",
     "text": [
      "<class 'pandas.core.frame.DataFrame'>\n",
      "RangeIndex: 200000 entries, 0 to 199999\n",
      "Data columns (total 39 columns):\n",
      " #   Column                 Non-Null Count   Dtype  \n",
      "---  ------                 --------------   -----  \n",
      " 0   Unnamed: 0             200000 non-null  int64  \n",
      " 1   departures_scheduled   200000 non-null  float64\n",
      " 2   departures_performed   200000 non-null  float64\n",
      " 3   payload                200000 non-null  float64\n",
      " 4   seats                  200000 non-null  float64\n",
      " 5   passengers             200000 non-null  float64\n",
      " 6   freight                200000 non-null  float64\n",
      " 7   mail                   200000 non-null  float64\n",
      " 8   distance               200000 non-null  float64\n",
      " 9   ramp_to_ramp           200000 non-null  float64\n",
      " 10  air_time               200000 non-null  float64\n",
      " 11  unique_carrier         200000 non-null  object \n",
      " 12  airline_id             200000 non-null  int64  \n",
      " 13  unique_carrier_name    200000 non-null  object \n",
      " 14  region                 200000 non-null  object \n",
      " 15  carrier                200000 non-null  object \n",
      " 16  carrier_name           200000 non-null  object \n",
      " 17  carrier_group          200000 non-null  int64  \n",
      " 18  carrier_group_new      200000 non-null  int64  \n",
      " 19  origin_airport_id      200000 non-null  int64  \n",
      " 20  origin_city_market_id  200000 non-null  int64  \n",
      " 21  origin                 200000 non-null  object \n",
      " 22  origin_city_name       200000 non-null  object \n",
      " 23  origin_country         200000 non-null  object \n",
      " 24  origin_country_name    200000 non-null  object \n",
      " 25  dest_airport_id        200000 non-null  int64  \n",
      " 26  dest_city_market_id    200000 non-null  int64  \n",
      " 27  dest                   200000 non-null  object \n",
      " 28  dest_city_name         200000 non-null  object \n",
      " 29  dest_country           200000 non-null  object \n",
      " 30  dest_country_name      200000 non-null  object \n",
      " 31  aircraft_group         200000 non-null  int64  \n",
      " 32  aircraft_type          200000 non-null  int64  \n",
      " 33  aircraft_config        200000 non-null  int64  \n",
      " 34  year                   200000 non-null  int64  \n",
      " 35  month                  200000 non-null  int64  \n",
      " 36  distance_group         200000 non-null  int64  \n",
      " 37  class                  200000 non-null  object \n",
      " 38  data_source            200000 non-null  object \n",
      "dtypes: float64(10), int64(14), object(15)\n",
      "memory usage: 59.5+ MB\n"
     ]
    },
    {
     "data": {
      "text/html": [
       "<div>\n",
       "<style scoped>\n",
       "    .dataframe tbody tr th:only-of-type {\n",
       "        vertical-align: middle;\n",
       "    }\n",
       "\n",
       "    .dataframe tbody tr th {\n",
       "        vertical-align: top;\n",
       "    }\n",
       "\n",
       "    .dataframe thead th {\n",
       "        text-align: right;\n",
       "    }\n",
       "</style>\n",
       "<table border=\"1\" class=\"dataframe\">\n",
       "  <thead>\n",
       "    <tr style=\"text-align: right;\">\n",
       "      <th></th>\n",
       "      <th>Unnamed: 0</th>\n",
       "      <th>departures_scheduled</th>\n",
       "      <th>departures_performed</th>\n",
       "      <th>payload</th>\n",
       "      <th>seats</th>\n",
       "      <th>passengers</th>\n",
       "      <th>freight</th>\n",
       "      <th>mail</th>\n",
       "      <th>distance</th>\n",
       "      <th>ramp_to_ramp</th>\n",
       "      <th>...</th>\n",
       "      <th>origin_airport_id</th>\n",
       "      <th>origin_city_market_id</th>\n",
       "      <th>dest_airport_id</th>\n",
       "      <th>dest_city_market_id</th>\n",
       "      <th>aircraft_group</th>\n",
       "      <th>aircraft_type</th>\n",
       "      <th>aircraft_config</th>\n",
       "      <th>year</th>\n",
       "      <th>month</th>\n",
       "      <th>distance_group</th>\n",
       "    </tr>\n",
       "  </thead>\n",
       "  <tbody>\n",
       "    <tr>\n",
       "      <th>count</th>\n",
       "      <td>200000.000000</td>\n",
       "      <td>200000.00000</td>\n",
       "      <td>200000.000000</td>\n",
       "      <td>2.000000e+05</td>\n",
       "      <td>200000.000000</td>\n",
       "      <td>200000.00000</td>\n",
       "      <td>2.000000e+05</td>\n",
       "      <td>2.000000e+05</td>\n",
       "      <td>200000.000000</td>\n",
       "      <td>200000.000000</td>\n",
       "      <td>...</td>\n",
       "      <td>200000.000000</td>\n",
       "      <td>200000.000000</td>\n",
       "      <td>200000.000000</td>\n",
       "      <td>200000.000000</td>\n",
       "      <td>200000.000000</td>\n",
       "      <td>200000.000000</td>\n",
       "      <td>200000.000000</td>\n",
       "      <td>200000.00000</td>\n",
       "      <td>200000.000000</td>\n",
       "      <td>200000.000000</td>\n",
       "    </tr>\n",
       "    <tr>\n",
       "      <th>mean</th>\n",
       "      <td>99999.500000</td>\n",
       "      <td>20.28890</td>\n",
       "      <td>22.696410</td>\n",
       "      <td>8.517293e+05</td>\n",
       "      <td>2568.850665</td>\n",
       "      <td>2097.19092</td>\n",
       "      <td>1.032490e+05</td>\n",
       "      <td>2.851546e+03</td>\n",
       "      <td>1043.984495</td>\n",
       "      <td>2893.003985</td>\n",
       "      <td>...</td>\n",
       "      <td>12816.523330</td>\n",
       "      <td>32101.606395</td>\n",
       "      <td>12799.966300</td>\n",
       "      <td>32083.860015</td>\n",
       "      <td>5.514485</td>\n",
       "      <td>606.174760</td>\n",
       "      <td>1.212745</td>\n",
       "      <td>2017.03089</td>\n",
       "      <td>6.549040</td>\n",
       "      <td>2.637115</td>\n",
       "    </tr>\n",
       "    <tr>\n",
       "      <th>std</th>\n",
       "      <td>57735.171256</td>\n",
       "      <td>37.88356</td>\n",
       "      <td>35.661841</td>\n",
       "      <td>1.505973e+06</td>\n",
       "      <td>4790.585583</td>\n",
       "      <td>4010.46571</td>\n",
       "      <td>5.254641e+05</td>\n",
       "      <td>2.430157e+04</td>\n",
       "      <td>1256.818547</td>\n",
       "      <td>5258.830624</td>\n",
       "      <td>...</td>\n",
       "      <td>1612.154473</td>\n",
       "      <td>1533.171644</td>\n",
       "      <td>1610.624542</td>\n",
       "      <td>1525.981752</td>\n",
       "      <td>1.538233</td>\n",
       "      <td>166.367127</td>\n",
       "      <td>0.525648</td>\n",
       "      <td>1.41678</td>\n",
       "      <td>3.454909</td>\n",
       "      <td>2.488232</td>\n",
       "    </tr>\n",
       "    <tr>\n",
       "      <th>min</th>\n",
       "      <td>0.000000</td>\n",
       "      <td>0.00000</td>\n",
       "      <td>0.000000</td>\n",
       "      <td>0.000000e+00</td>\n",
       "      <td>0.000000</td>\n",
       "      <td>0.00000</td>\n",
       "      <td>0.000000e+00</td>\n",
       "      <td>0.000000e+00</td>\n",
       "      <td>0.000000</td>\n",
       "      <td>0.000000</td>\n",
       "      <td>...</td>\n",
       "      <td>10005.000000</td>\n",
       "      <td>30005.000000</td>\n",
       "      <td>10005.000000</td>\n",
       "      <td>30005.000000</td>\n",
       "      <td>0.000000</td>\n",
       "      <td>10.000000</td>\n",
       "      <td>1.000000</td>\n",
       "      <td>2015.00000</td>\n",
       "      <td>1.000000</td>\n",
       "      <td>1.000000</td>\n",
       "    </tr>\n",
       "    <tr>\n",
       "      <th>25%</th>\n",
       "      <td>49999.750000</td>\n",
       "      <td>0.00000</td>\n",
       "      <td>1.000000</td>\n",
       "      <td>3.887900e+04</td>\n",
       "      <td>50.000000</td>\n",
       "      <td>10.00000</td>\n",
       "      <td>0.000000e+00</td>\n",
       "      <td>0.000000e+00</td>\n",
       "      <td>283.000000</td>\n",
       "      <td>115.000000</td>\n",
       "      <td>...</td>\n",
       "      <td>11298.000000</td>\n",
       "      <td>30852.000000</td>\n",
       "      <td>11298.000000</td>\n",
       "      <td>30852.000000</td>\n",
       "      <td>6.000000</td>\n",
       "      <td>614.000000</td>\n",
       "      <td>1.000000</td>\n",
       "      <td>2016.00000</td>\n",
       "      <td>4.000000</td>\n",
       "      <td>1.000000</td>\n",
       "    </tr>\n",
       "    <tr>\n",
       "      <th>50%</th>\n",
       "      <td>99999.500000</td>\n",
       "      <td>4.00000</td>\n",
       "      <td>9.000000</td>\n",
       "      <td>2.530470e+05</td>\n",
       "      <td>496.000000</td>\n",
       "      <td>354.00000</td>\n",
       "      <td>0.000000e+00</td>\n",
       "      <td>0.000000e+00</td>\n",
       "      <td>661.000000</td>\n",
       "      <td>670.000000</td>\n",
       "      <td>...</td>\n",
       "      <td>12892.000000</td>\n",
       "      <td>31703.000000</td>\n",
       "      <td>12892.000000</td>\n",
       "      <td>31703.000000</td>\n",
       "      <td>6.000000</td>\n",
       "      <td>631.000000</td>\n",
       "      <td>1.000000</td>\n",
       "      <td>2017.00000</td>\n",
       "      <td>7.000000</td>\n",
       "      <td>2.000000</td>\n",
       "    </tr>\n",
       "    <tr>\n",
       "      <th>75%</th>\n",
       "      <td>149999.250000</td>\n",
       "      <td>28.00000</td>\n",
       "      <td>30.000000</td>\n",
       "      <td>1.066925e+06</td>\n",
       "      <td>3385.000000</td>\n",
       "      <td>2667.00000</td>\n",
       "      <td>3.590000e+03</td>\n",
       "      <td>0.000000e+00</td>\n",
       "      <td>1230.000000</td>\n",
       "      <td>3694.000000</td>\n",
       "      <td>...</td>\n",
       "      <td>14100.000000</td>\n",
       "      <td>33195.000000</td>\n",
       "      <td>14100.000000</td>\n",
       "      <td>33192.000000</td>\n",
       "      <td>6.000000</td>\n",
       "      <td>691.000000</td>\n",
       "      <td>1.000000</td>\n",
       "      <td>2018.00000</td>\n",
       "      <td>10.000000</td>\n",
       "      <td>3.000000</td>\n",
       "    </tr>\n",
       "    <tr>\n",
       "      <th>max</th>\n",
       "      <td>199999.000000</td>\n",
       "      <td>2141.00000</td>\n",
       "      <td>993.000000</td>\n",
       "      <td>4.455440e+07</td>\n",
       "      <td>109184.000000</td>\n",
       "      <td>85671.00000</td>\n",
       "      <td>3.562719e+07</td>\n",
       "      <td>3.847215e+06</td>\n",
       "      <td>9886.000000</td>\n",
       "      <td>197248.000000</td>\n",
       "      <td>...</td>\n",
       "      <td>16869.000000</td>\n",
       "      <td>36839.000000</td>\n",
       "      <td>16869.000000</td>\n",
       "      <td>36830.000000</td>\n",
       "      <td>8.000000</td>\n",
       "      <td>889.000000</td>\n",
       "      <td>4.000000</td>\n",
       "      <td>2019.00000</td>\n",
       "      <td>12.000000</td>\n",
       "      <td>20.000000</td>\n",
       "    </tr>\n",
       "  </tbody>\n",
       "</table>\n",
       "<p>8 rows × 24 columns</p>\n",
       "</div>"
      ],
      "text/plain": [
       "          Unnamed: 0  departures_scheduled  departures_performed  \\\n",
       "count  200000.000000          200000.00000         200000.000000   \n",
       "mean    99999.500000              20.28890             22.696410   \n",
       "std     57735.171256              37.88356             35.661841   \n",
       "min         0.000000               0.00000              0.000000   \n",
       "25%     49999.750000               0.00000              1.000000   \n",
       "50%     99999.500000               4.00000              9.000000   \n",
       "75%    149999.250000              28.00000             30.000000   \n",
       "max    199999.000000            2141.00000            993.000000   \n",
       "\n",
       "            payload          seats    passengers       freight          mail  \\\n",
       "count  2.000000e+05  200000.000000  200000.00000  2.000000e+05  2.000000e+05   \n",
       "mean   8.517293e+05    2568.850665    2097.19092  1.032490e+05  2.851546e+03   \n",
       "std    1.505973e+06    4790.585583    4010.46571  5.254641e+05  2.430157e+04   \n",
       "min    0.000000e+00       0.000000       0.00000  0.000000e+00  0.000000e+00   \n",
       "25%    3.887900e+04      50.000000      10.00000  0.000000e+00  0.000000e+00   \n",
       "50%    2.530470e+05     496.000000     354.00000  0.000000e+00  0.000000e+00   \n",
       "75%    1.066925e+06    3385.000000    2667.00000  3.590000e+03  0.000000e+00   \n",
       "max    4.455440e+07  109184.000000   85671.00000  3.562719e+07  3.847215e+06   \n",
       "\n",
       "            distance   ramp_to_ramp  ...  origin_airport_id  \\\n",
       "count  200000.000000  200000.000000  ...      200000.000000   \n",
       "mean     1043.984495    2893.003985  ...       12816.523330   \n",
       "std      1256.818547    5258.830624  ...        1612.154473   \n",
       "min         0.000000       0.000000  ...       10005.000000   \n",
       "25%       283.000000     115.000000  ...       11298.000000   \n",
       "50%       661.000000     670.000000  ...       12892.000000   \n",
       "75%      1230.000000    3694.000000  ...       14100.000000   \n",
       "max      9886.000000  197248.000000  ...       16869.000000   \n",
       "\n",
       "       origin_city_market_id  dest_airport_id  dest_city_market_id  \\\n",
       "count          200000.000000    200000.000000        200000.000000   \n",
       "mean            32101.606395     12799.966300         32083.860015   \n",
       "std              1533.171644      1610.624542          1525.981752   \n",
       "min             30005.000000     10005.000000         30005.000000   \n",
       "25%             30852.000000     11298.000000         30852.000000   \n",
       "50%             31703.000000     12892.000000         31703.000000   \n",
       "75%             33195.000000     14100.000000         33192.000000   \n",
       "max             36839.000000     16869.000000         36830.000000   \n",
       "\n",
       "       aircraft_group  aircraft_type  aircraft_config          year  \\\n",
       "count   200000.000000  200000.000000    200000.000000  200000.00000   \n",
       "mean         5.514485     606.174760         1.212745    2017.03089   \n",
       "std          1.538233     166.367127         0.525648       1.41678   \n",
       "min          0.000000      10.000000         1.000000    2015.00000   \n",
       "25%          6.000000     614.000000         1.000000    2016.00000   \n",
       "50%          6.000000     631.000000         1.000000    2017.00000   \n",
       "75%          6.000000     691.000000         1.000000    2018.00000   \n",
       "max          8.000000     889.000000         4.000000    2019.00000   \n",
       "\n",
       "               month  distance_group  \n",
       "count  200000.000000   200000.000000  \n",
       "mean        6.549040        2.637115  \n",
       "std         3.454909        2.488232  \n",
       "min         1.000000        1.000000  \n",
       "25%         4.000000        1.000000  \n",
       "50%         7.000000        2.000000  \n",
       "75%        10.000000        3.000000  \n",
       "max        12.000000       20.000000  \n",
       "\n",
       "[8 rows x 24 columns]"
      ]
     },
     "execution_count": 68,
     "metadata": {},
     "output_type": "execute_result"
    }
   ],
   "source": [
    "passengers200k = pd.read_csv('Data/PASSENGER_cleaned.csv')\n",
    "passengers200k.info()\n",
    "passengers200k.describe()\n"
   ]
  },
  {
   "cell_type": "markdown",
   "id": "740d63c9",
   "metadata": {},
   "source": [
    "### Fuel Consumption Database from Postgres"
   ]
  },
  {
   "cell_type": "code",
   "execution_count": 69,
   "id": "7a00c304",
   "metadata": {},
   "outputs": [
    {
     "data": {
      "text/plain": [
       "Unnamed: 0           0\n",
       "month                0\n",
       "airline_id           0\n",
       "unique_carrier       0\n",
       "carrier              0\n",
       "carrier_name         0\n",
       "carrier_group_new    0\n",
       "sdomt_gallons        0\n",
       "satl_gallons         0\n",
       "spac_gallons         0\n",
       "slat_gallons         0\n",
       "sint_gallons         0\n",
       "ts_gallons           0\n",
       "tdomt_gallons        0\n",
       "tint_gallons         0\n",
       "total_gallons        0\n",
       "sdomt_cost           0\n",
       "satl_cost            0\n",
       "spac_cost            0\n",
       "slat_cost            0\n",
       "sint_cost            0\n",
       "ts_cost              0\n",
       "tdomt_cost           0\n",
       "tint_cost            0\n",
       "total_cost           0\n",
       "year                 0\n",
       "dtype: int64"
      ]
     },
     "execution_count": 69,
     "metadata": {},
     "output_type": "execute_result"
    }
   ],
   "source": [
    "fuel200k = pd.read_csv('Data/FUEL_cleaned.csv')\n",
    "# fuel200k.info()\n",
    "# fuel200k.describe()\n",
    "fuel200k.isnull().sum()"
   ]
  },
  {
   "cell_type": "markdown",
   "id": "48e441d7",
   "metadata": {},
   "source": [
    "### Flight Test Database from Postgres (only is use for testing of our ML regression models)"
   ]
  },
  {
   "cell_type": "code",
   "execution_count": 47,
   "id": "b268c3b9",
   "metadata": {},
   "outputs": [],
   "source": [
    "flight_test = pd.read_sql_query('''SELECT * FROM flights_test;''', cnx)\n",
    "flight_test.to_csv('flighttest.csv')"
   ]
  },
  {
   "cell_type": "code",
   "execution_count": 37,
   "id": "a246186e-d0c6-4c38-bdb2-6aa37a927ccc",
   "metadata": {},
   "outputs": [
    {
     "data": {
      "text/plain": [
       "Unnamed: 0           0\n",
       "month                0\n",
       "airline_id           1\n",
       "unique_carrier       1\n",
       "carrier              0\n",
       "carrier_name         1\n",
       "carrier_group_new    0\n",
       "sdomt_gallons        1\n",
       "satl_gallons         1\n",
       "spac_gallons         1\n",
       "slat_gallons         2\n",
       "sint_gallons         1\n",
       "ts_gallons           1\n",
       "tdomt_gallons        3\n",
       "tint_gallons         1\n",
       "total_gallons        6\n",
       "sdomt_cost           0\n",
       "satl_cost            1\n",
       "spac_cost            1\n",
       "slat_cost            1\n",
       "sint_cost            1\n",
       "ts_cost              0\n",
       "tdomt_cost           0\n",
       "tint_cost            1\n",
       "total_cost           0\n",
       "year                 0\n",
       "dtype: int64"
      ]
     },
     "execution_count": 37,
     "metadata": {},
     "output_type": "execute_result"
    }
   ],
   "source": [
    "flight_test = pd.read_csv('fuel.csv')\n",
    "# flight_test.info()\n",
    "# flight_test.describe()\n",
    "flight_test.isnull().sum()"
   ]
  },
  {
   "cell_type": "markdown",
   "id": "646c4779",
   "metadata": {},
   "source": [
    "## Task 1: Test the hypothesis that the delay is from Normal distribution. and that mean of the delay is 0. Be careful about the outliers."
   ]
  },
  {
   "cell_type": "code",
   "execution_count": 46,
   "id": "31e878f6",
   "metadata": {},
   "outputs": [
    {
     "data": {
      "text/plain": [
       "arr_delay\n",
       "False        128199\n",
       "True          68319\n",
       "dtype: int64"
      ]
     },
     "execution_count": 46,
     "metadata": {},
     "output_type": "execute_result"
    }
   ],
   "source": [
    "flights200k[['dep_delay','arr_delay']].describe()\n",
    "arrivals_t = flights200k['arr_delay']\n",
    "delay_t = flights200k['dep_delay']\n",
    "flights200k[['arr_delay' ]].gt(0).value_counts() #porportion of flights that arrive early rather than later than anticipated"
   ]
  },
  {
   "cell_type": "code",
   "execution_count": 51,
   "id": "34dd6e63",
   "metadata": {},
   "outputs": [
    {
     "name": "stderr",
     "output_type": "stream",
     "text": [
      "/Users/arjunduggal/anaconda/envs/test_env/lib/python3.6/site-packages/seaborn/distributions.py:2557: FutureWarning:\n",
      "\n",
      "`distplot` is a deprecated function and will be removed in a future version. Please adapt your code to use either `displot` (a figure-level function with similar flexibility) or `histplot` (an axes-level function for histograms).\n",
      "\n",
      "/Users/arjunduggal/anaconda/envs/test_env/lib/python3.6/site-packages/seaborn/distributions.py:2557: FutureWarning:\n",
      "\n",
      "`distplot` is a deprecated function and will be removed in a future version. Please adapt your code to use either `displot` (a figure-level function with similar flexibility) or `histplot` (an axes-level function for histograms).\n",
      "\n",
      "No handles with labels found to put in legend.\n"
     ]
    },
    {
     "data": {
      "image/png": "[encoded data removed]",
      "text/plain": [
       "<Figure size 1296x360 with 2 Axes>"
      ]
     },
     "metadata": {
      "needs_background": "light"
     },
     "output_type": "display_data"
    }
   ],
   "source": [
    "#checking there distribution\n",
    "\n",
    "fig, ax = plt.subplots(1,2, figsize=(18,5));\n",
    "sns.distplot(arrivals_t, kde=True, rug=False,label='arr_delay', ax =ax[0])\n",
    "sns.distplot(delay_t, kde=True, rug=False, label='dep_delay', ax =ax[0])\n",
    "plt.legend() #how else can we verify the normality of these features\n",
    "\n",
    "ax[1] = sns.boxplot(data=flights200k[['arr_delay','dep_delay']], orient=\"h\", palette=\"Set2\")\n",
    "ax[1].set_title('Arrival Delay Time (Min)');\n",
    "plt.show();"
   ]
  },
  {
   "cell_type": "code",
   "execution_count": 33,
   "id": "41436d98",
   "metadata": {},
   "outputs": [
    {
     "data": {
      "image/png": "[encoded data removed]",
      "text/plain": [
       "<Figure size 720x720 with 2 Axes>"
      ]
     },
     "metadata": {
      "needs_background": "light"
     },
     "output_type": "display_data"
    }
   ],
   "source": [
    "def draw_histograms(dataframe, features, rows, cols):\n",
    "    fig=plt.figure(figsize=(10,10))\n",
    "    for i, feature in enumerate(features):\n",
    "        ax=fig.add_subplot(rows,cols,i+1)\n",
    "        dataframe[feature].hist(bins=20,ax=ax,facecolor='midnightblue')\n",
    "        ax.set_title(feature+\" Distribution\",color='Red')\n",
    "        ax.set_yscale('log')\n",
    "    fig.tight_layout()  \n",
    "    plt.show()\n",
    "\n",
    "draw_histograms(flights200k,flights200k[['arr_delay','dep_delay' ]],1,2)"
   ]
  },
  {
   "cell_type": "code",
   "execution_count": 34,
   "id": "12d82a31",
   "metadata": {},
   "outputs": [],
   "source": [
    "at1 = arrivals_t[arrivals_t.between(arrivals_t.quantile(.05), arrivals_t.quantile(.95))]\n",
    "dt1 = delay_t[delay_t.between(delay_t.quantile(.05), delay_t.quantile(.95))]"
   ]
  },
  {
   "cell_type": "code",
   "execution_count": 35,
   "id": "c90d2fd9",
   "metadata": {},
   "outputs": [
    {
     "data": {
      "image/png": "[encoded data removed]",
      "text/plain": [
       "<Figure size 432x288 with 1 Axes>"
      ]
     },
     "metadata": {
      "needs_background": "light"
     },
     "output_type": "display_data"
    }
   ],
   "source": [
    "stats.probplot(at1, dist=\"norm\", plot=plt)\n",
    "plt.show()"
   ]
  },
  {
   "cell_type": "code",
   "execution_count": 36,
   "id": "e3259072",
   "metadata": {},
   "outputs": [
    {
     "data": {
      "image/png": "[encoded data removed]",
      "text/plain": [
       "<Figure size 432x288 with 1 Axes>"
      ]
     },
     "metadata": {
      "needs_background": "light"
     },
     "output_type": "display_data"
    }
   ],
   "source": [
    "stats.probplot(dt1, dist=\"norm\", plot=plt)\n",
    "plt.show() #also some test statistics we can use to demonstrate any normality that may exist, most of them come from scipy stats package"
   ]
  },
  {
   "cell_type": "code",
   "execution_count": 52,
   "id": "b7805b7e-2734-4461-af80-a7b68a034d7a",
   "metadata": {},
   "outputs": [
    {
     "data": {
      "text/plain": [
       "count    195967.000000\n",
       "mean          5.373180\n",
       "std          49.554793\n",
       "min        -186.000000\n",
       "25%         -15.000000\n",
       "50%          -6.000000\n",
       "75%           8.000000\n",
       "max        1596.000000\n",
       "Name: arr_delay, dtype: float64"
      ]
     },
     "execution_count": 52,
     "metadata": {},
     "output_type": "execute_result"
    }
   ],
   "source": [
    "#With such a siginificant std, we may want to define some function to get rid of outliers\n",
    "flights200k['arr_delay'].describe()"
   ]
  },
  {
   "cell_type": "markdown",
   "id": "cd1d2dc4",
   "metadata": {},
   "source": [
    "## Task 2: Is average/median monthly delay different during the year? If yes, which are months with the biggest delays and what could be the reason?¶"
   ]
  },
  {
   "cell_type": "code",
   "execution_count": 9,
   "id": "339c446e",
   "metadata": {},
   "outputs": [],
   "source": [
    "flights200k['month'] = pd.DatetimeIndex(flights200k['fl_date']).month\n",
    "flights200k['year'] = pd.DatetimeIndex(flights200k['fl_date']).year\n",
    "flights200k['day'] = pd.DatetimeIndex(flights200k['fl_date']).day"
   ]
  },
  {
   "cell_type": "code",
   "execution_count": 10,
   "id": "86cc3e6e",
   "metadata": {},
   "outputs": [
    {
     "data": {
      "text/plain": [
       "2019    101692\n",
       "2018     98308\n",
       "Name: year, dtype: int64"
      ]
     },
     "execution_count": 10,
     "metadata": {},
     "output_type": "execute_result"
    }
   ],
   "source": [
    "flights200k['year'].value_counts()"
   ]
  },
  {
   "cell_type": "code",
   "execution_count": 11,
   "id": "5f615a31",
   "metadata": {},
   "outputs": [
    {
     "data": {
      "text/plain": [
       "<matplotlib.axes._subplots.AxesSubplot at 0x7f90d6089f28>"
      ]
     },
     "execution_count": 11,
     "metadata": {},
     "output_type": "execute_result"
    },
    {
     "data": {
      "image/png": "[encoded data removed]",
      "text/plain": [
       "<Figure size 432x288 with 1 Axes>"
      ]
     },
     "metadata": {
      "needs_background": "light"
     },
     "output_type": "display_data"
    },
    {
     "data": {
      "image/png": "[encoded data removed]",
      "text/plain": [
       "<Figure size 432x288 with 1 Axes>"
      ]
     },
     "metadata": {
      "needs_background": "light"
     },
     "output_type": "display_data"
    }
   ],
   "source": [
    "flights200k.groupby(['month','year'])['dep_delay'].mean().unstack('year').plot.bar()\n",
    "flights200k.groupby(['year','month'])['arr_delay'].mean().unstack('year').plot.bar()\n",
    "# plot.set_xticks(['Jan', 'Feb', 'Mar', 'Apr','May','Jun',\"Juy\",'Aug','Sept','Oct','Nov','Dec'])"
   ]
  },
  {
   "cell_type": "code",
   "execution_count": 12,
   "id": "6e5e3364",
   "metadata": {},
   "outputs": [],
   "source": [
    "g1 = flights200k.groupby(['month','year'])['dep_delay'].mean()\n",
    "g2 = flights200k.groupby(['month','year'])['arr_delay'].mean() #respective series containing yearly and monthly average delay times\n",
    "dft = pd.concat([g1,g2],axis=1).reset_index()"
   ]
  },
  {
   "cell_type": "code",
   "execution_count": 13,
   "id": "f9c85951",
   "metadata": {},
   "outputs": [
    {
     "data": {
      "text/html": [
       "<div>\n",
       "<style scoped>\n",
       "    .dataframe tbody tr th:only-of-type {\n",
       "        vertical-align: middle;\n",
       "    }\n",
       "\n",
       "    .dataframe tbody tr th {\n",
       "        vertical-align: top;\n",
       "    }\n",
       "\n",
       "    .dataframe thead th {\n",
       "        text-align: right;\n",
       "    }\n",
       "</style>\n",
       "<table border=\"1\" class=\"dataframe\">\n",
       "  <thead>\n",
       "    <tr style=\"text-align: right;\">\n",
       "      <th></th>\n",
       "      <th>month</th>\n",
       "      <th>year</th>\n",
       "      <th>dep_delay</th>\n",
       "      <th>arr_delay</th>\n",
       "    </tr>\n",
       "  </thead>\n",
       "  <tbody>\n",
       "    <tr>\n",
       "      <th>0</th>\n",
       "      <td>1</td>\n",
       "      <td>2018</td>\n",
       "      <td>9.536821</td>\n",
       "      <td>3.092561</td>\n",
       "    </tr>\n",
       "    <tr>\n",
       "      <th>1</th>\n",
       "      <td>1</td>\n",
       "      <td>2019</td>\n",
       "      <td>9.052389</td>\n",
       "      <td>3.409254</td>\n",
       "    </tr>\n",
       "    <tr>\n",
       "      <th>2</th>\n",
       "      <td>2</td>\n",
       "      <td>2018</td>\n",
       "      <td>9.319977</td>\n",
       "      <td>3.481087</td>\n",
       "    </tr>\n",
       "    <tr>\n",
       "      <th>3</th>\n",
       "      <td>2</td>\n",
       "      <td>2019</td>\n",
       "      <td>13.828713</td>\n",
       "      <td>9.067859</td>\n",
       "    </tr>\n",
       "    <tr>\n",
       "      <th>4</th>\n",
       "      <td>3</td>\n",
       "      <td>2018</td>\n",
       "      <td>8.644202</td>\n",
       "      <td>3.241090</td>\n",
       "    </tr>\n",
       "    <tr>\n",
       "      <th>5</th>\n",
       "      <td>3</td>\n",
       "      <td>2019</td>\n",
       "      <td>8.070288</td>\n",
       "      <td>2.281650</td>\n",
       "    </tr>\n",
       "    <tr>\n",
       "      <th>6</th>\n",
       "      <td>4</td>\n",
       "      <td>2018</td>\n",
       "      <td>8.031963</td>\n",
       "      <td>3.338781</td>\n",
       "    </tr>\n",
       "    <tr>\n",
       "      <th>7</th>\n",
       "      <td>4</td>\n",
       "      <td>2019</td>\n",
       "      <td>9.878124</td>\n",
       "      <td>4.284991</td>\n",
       "    </tr>\n",
       "    <tr>\n",
       "      <th>8</th>\n",
       "      <td>5</td>\n",
       "      <td>2018</td>\n",
       "      <td>10.200336</td>\n",
       "      <td>5.293529</td>\n",
       "    </tr>\n",
       "    <tr>\n",
       "      <th>9</th>\n",
       "      <td>5</td>\n",
       "      <td>2019</td>\n",
       "      <td>12.034329</td>\n",
       "      <td>7.140123</td>\n",
       "    </tr>\n",
       "    <tr>\n",
       "      <th>10</th>\n",
       "      <td>6</td>\n",
       "      <td>2018</td>\n",
       "      <td>12.410266</td>\n",
       "      <td>8.184874</td>\n",
       "    </tr>\n",
       "    <tr>\n",
       "      <th>11</th>\n",
       "      <td>6</td>\n",
       "      <td>2019</td>\n",
       "      <td>15.836850</td>\n",
       "      <td>12.109053</td>\n",
       "    </tr>\n",
       "    <tr>\n",
       "      <th>12</th>\n",
       "      <td>7</td>\n",
       "      <td>2018</td>\n",
       "      <td>12.679606</td>\n",
       "      <td>8.107623</td>\n",
       "    </tr>\n",
       "    <tr>\n",
       "      <th>13</th>\n",
       "      <td>7</td>\n",
       "      <td>2019</td>\n",
       "      <td>14.672950</td>\n",
       "      <td>9.342159</td>\n",
       "    </tr>\n",
       "    <tr>\n",
       "      <th>14</th>\n",
       "      <td>8</td>\n",
       "      <td>2018</td>\n",
       "      <td>14.545771</td>\n",
       "      <td>10.615403</td>\n",
       "    </tr>\n",
       "    <tr>\n",
       "      <th>15</th>\n",
       "      <td>8</td>\n",
       "      <td>2019</td>\n",
       "      <td>11.994670</td>\n",
       "      <td>7.209746</td>\n",
       "    </tr>\n",
       "    <tr>\n",
       "      <th>16</th>\n",
       "      <td>9</td>\n",
       "      <td>2018</td>\n",
       "      <td>8.266268</td>\n",
       "      <td>3.627060</td>\n",
       "    </tr>\n",
       "    <tr>\n",
       "      <th>17</th>\n",
       "      <td>9</td>\n",
       "      <td>2019</td>\n",
       "      <td>7.359292</td>\n",
       "      <td>1.382237</td>\n",
       "    </tr>\n",
       "    <tr>\n",
       "      <th>18</th>\n",
       "      <td>10</td>\n",
       "      <td>2018</td>\n",
       "      <td>7.686005</td>\n",
       "      <td>3.553248</td>\n",
       "    </tr>\n",
       "    <tr>\n",
       "      <th>19</th>\n",
       "      <td>10</td>\n",
       "      <td>2019</td>\n",
       "      <td>7.875611</td>\n",
       "      <td>2.423852</td>\n",
       "    </tr>\n",
       "    <tr>\n",
       "      <th>20</th>\n",
       "      <td>11</td>\n",
       "      <td>2018</td>\n",
       "      <td>9.894604</td>\n",
       "      <td>5.694644</td>\n",
       "    </tr>\n",
       "    <tr>\n",
       "      <th>21</th>\n",
       "      <td>11</td>\n",
       "      <td>2019</td>\n",
       "      <td>7.610032</td>\n",
       "      <td>1.034496</td>\n",
       "    </tr>\n",
       "    <tr>\n",
       "      <th>22</th>\n",
       "      <td>12</td>\n",
       "      <td>2018</td>\n",
       "      <td>8.891367</td>\n",
       "      <td>3.220046</td>\n",
       "    </tr>\n",
       "    <tr>\n",
       "      <th>23</th>\n",
       "      <td>12</td>\n",
       "      <td>2019</td>\n",
       "      <td>12.416627</td>\n",
       "      <td>6.448992</td>\n",
       "    </tr>\n",
       "  </tbody>\n",
       "</table>\n",
       "</div>"
      ],
      "text/plain": [
       "    month  year  dep_delay  arr_delay\n",
       "0       1  2018   9.536821   3.092561\n",
       "1       1  2019   9.052389   3.409254\n",
       "2       2  2018   9.319977   3.481087\n",
       "3       2  2019  13.828713   9.067859\n",
       "4       3  2018   8.644202   3.241090\n",
       "5       3  2019   8.070288   2.281650\n",
       "6       4  2018   8.031963   3.338781\n",
       "7       4  2019   9.878124   4.284991\n",
       "8       5  2018  10.200336   5.293529\n",
       "9       5  2019  12.034329   7.140123\n",
       "10      6  2018  12.410266   8.184874\n",
       "11      6  2019  15.836850  12.109053\n",
       "12      7  2018  12.679606   8.107623\n",
       "13      7  2019  14.672950   9.342159\n",
       "14      8  2018  14.545771  10.615403\n",
       "15      8  2019  11.994670   7.209746\n",
       "16      9  2018   8.266268   3.627060\n",
       "17      9  2019   7.359292   1.382237\n",
       "18     10  2018   7.686005   3.553248\n",
       "19     10  2019   7.875611   2.423852\n",
       "20     11  2018   9.894604   5.694644\n",
       "21     11  2019   7.610032   1.034496\n",
       "22     12  2018   8.891367   3.220046\n",
       "23     12  2019  12.416627   6.448992"
      ]
     },
     "execution_count": 13,
     "metadata": {},
     "output_type": "execute_result"
    }
   ],
   "source": [
    "dft"
   ]
  },
  {
   "cell_type": "code",
   "execution_count": 65,
   "id": "942e296c",
   "metadata": {},
   "outputs": [],
   "source": [
    "# fig = px.bar(df3, x=\"month\", y=\"arr_delay\",color=\"year\", barmode = 'group')\n",
    "# fig.show()"
   ]
  },
  {
   "cell_type": "code",
   "execution_count": 64,
   "id": "611dd9dd",
   "metadata": {},
   "outputs": [],
   "source": [
    "# dayOfWeek={1:'Monday', 2:'Tuesday', 3:'Wednesday', 4:'Thursday', 5:'Friday', \n",
    "#                                            6:'Saturday', 7:'Sunday'}\n",
    "# dff = df.day.value_counts()\n",
    "# dff = dff.to_frame().sort_index()\n",
    "# dff.index = dff.index.map(dayOfWeek)\n",
    "\n",
    "# trace1 = go.Bar(\n",
    "#     x=dff.index,\n",
    "#     y=dff.day,\n",
    "#     name = 'Weather',\n",
    "#     marker=dict(\n",
    "#         color = dff.day,\n",
    "#         colorscale='Jet',\n",
    "#         showscale=True\n",
    "#     )\n",
    "# )\n",
    "\n",
    "# data = [trace1]\n",
    "# layout = go.Layout(\n",
    "#     title='# of Flights (Day of Week)', \n",
    "#     yaxis = dict(title = '# of Flights'\n",
    "#                                                     )\n",
    "# )\n",
    "\n",
    "# fig = go.Figure(data=data, layout=layout)\n",
    "# fig.show()"
   ]
  },
  {
   "cell_type": "code",
   "execution_count": null,
   "id": "7663ca8d",
   "metadata": {},
   "outputs": [],
   "source": []
  },
  {
   "cell_type": "code",
   "execution_count": null,
   "id": "9381ef41",
   "metadata": {},
   "outputs": [],
   "source": []
  },
  {
   "cell_type": "code",
   "execution_count": null,
   "id": "eaa66874",
   "metadata": {},
   "outputs": [],
   "source": []
  }
 ],
 "metadata": {
  "kernelspec": {
   "display_name": "arjun_LHL_env",
   "language": "python",
   "name": "arjun_lhl_env"
  },
  "language_info": {
   "codemirror_mode": {
    "name": "ipython",
    "version": 3
   },
   "file_extension": ".py",
   "mimetype": "text/x-python",
   "name": "python",
   "nbconvert_exporter": "python",
   "pygments_lexer": "ipython3",
   "version": "3.6.13"
  }
 },
 "nbformat": 4,
 "nbformat_minor": 5
}
