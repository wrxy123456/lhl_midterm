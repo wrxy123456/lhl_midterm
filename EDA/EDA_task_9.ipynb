{
 "cells": [
  {
   "cell_type": "code",
   "execution_count": 69,
   "id": "54f1e4c4-2854-4395-a900-00f65a269d1c",
   "metadata": {},
   "outputs": [],
   "source": [
    "import pandas as pd\n",
    "import sqlalchemy\n",
    "from sqlalchemy import create_engine\n",
    "import psycopg2\n",
    "import matplotlib.pyplot as plt\n",
    "import seaborn as sns\n",
    "import scipy.stats as stats\n",
    "import plotly.graph_objects as go\n",
    "import datetime\n",
    "import plotly.express as px\n",
    "import json\n",
    "import requests as re\n",
    "import warnings\n",
    "import numpy as np\n",
    "\n",
    "warnings.filterwarnings('ignore')\n",
    "# conda install -c conda-forge psycopg2"
   ]
  },
  {
   "cell_type": "code",
   "execution_count": 71,
   "id": "335f9ec7-8f94-4e74-be69-2c94b7d32a06",
   "metadata": {},
   "outputs": [],
   "source": [
    "flights = pd.read_csv('Data/FLIGHTS_cleaned.csv')"
   ]
  },
  {
   "cell_type": "code",
   "execution_count": 72,
   "id": "908d3929-d3a3-4250-a3bf-7262e3c3dcc3",
   "metadata": {},
   "outputs": [],
   "source": [
    "df_9 = pd.read_csv('Data/PASSENGER_cleaned.csv')"
   ]
  },
  {
   "cell_type": "code",
   "execution_count": 27,
   "id": "08da4de3-8e86-4544-a9d9-cd4b563cfa97",
   "metadata": {},
   "outputs": [
    {
     "name": "stdout",
     "output_type": "stream",
     "text": [
      "<class 'pandas.core.frame.DataFrame'>\n",
      "RangeIndex: 200000 entries, 0 to 199999\n",
      "Data columns (total 39 columns):\n",
      " #   Column                 Non-Null Count   Dtype  \n",
      "---  ------                 --------------   -----  \n",
      " 0   Unnamed: 0             200000 non-null  int64  \n",
      " 1   departures_scheduled   200000 non-null  float64\n",
      " 2   departures_performed   200000 non-null  float64\n",
      " 3   payload                200000 non-null  float64\n",
      " 4   seats                  200000 non-null  float64\n",
      " 5   passengers             200000 non-null  float64\n",
      " 6   freight                200000 non-null  float64\n",
      " 7   mail                   200000 non-null  float64\n",
      " 8   distance               200000 non-null  float64\n",
      " 9   ramp_to_ramp           200000 non-null  float64\n",
      " 10  air_time               200000 non-null  float64\n",
      " 11  unique_carrier         200000 non-null  object \n",
      " 12  airline_id             200000 non-null  int64  \n",
      " 13  unique_carrier_name    200000 non-null  object \n",
      " 14  region                 200000 non-null  object \n",
      " 15  carrier                200000 non-null  object \n",
      " 16  carrier_name           200000 non-null  object \n",
      " 17  carrier_group          200000 non-null  int64  \n",
      " 18  carrier_group_new      200000 non-null  int64  \n",
      " 19  origin_airport_id      200000 non-null  int64  \n",
      " 20  origin_city_market_id  200000 non-null  int64  \n",
      " 21  origin                 200000 non-null  object \n",
      " 22  origin_city_name       200000 non-null  object \n",
      " 23  origin_country         200000 non-null  object \n",
      " 24  origin_country_name    200000 non-null  object \n",
      " 25  dest_airport_id        200000 non-null  int64  \n",
      " 26  dest_city_market_id    200000 non-null  int64  \n",
      " 27  dest                   200000 non-null  object \n",
      " 28  dest_city_name         200000 non-null  object \n",
      " 29  dest_country           200000 non-null  object \n",
      " 30  dest_country_name      200000 non-null  object \n",
      " 31  aircraft_group         200000 non-null  int64  \n",
      " 32  aircraft_type          200000 non-null  int64  \n",
      " 33  aircraft_config        200000 non-null  int64  \n",
      " 34  year                   200000 non-null  int64  \n",
      " 35  month                  200000 non-null  int64  \n",
      " 36  distance_group         200000 non-null  int64  \n",
      " 37  class                  200000 non-null  object \n",
      " 38  data_source            200000 non-null  object \n",
      "dtypes: float64(10), int64(14), object(15)\n",
      "memory usage: 59.5+ MB\n"
     ]
    }
   ],
   "source": [
    "df_9.info()"
   ]
  },
  {
   "cell_type": "markdown",
   "id": "56748d5f-af8c-4d15-b8e6-c8047d56cb7d",
   "metadata": {},
   "source": [
    "### Task 9: Find the top 10 the bussiest airports. Does the biggest number of flights mean that the biggest number of passengers went through the particular airport? How much traffic do these 10 airports cover?\n"
   ]
  },
  {
   "cell_type": "code",
   "execution_count": 46,
   "id": "c903cfcb-9817-4de9-a950-108e0352c022",
   "metadata": {},
   "outputs": [],
   "source": [
    "#get top 10 businest airports based on departures_performed\n",
    "df_origin = df_9[['passengers','origin_city_name']].rename(columns={'origin_city_name':'airport_city'})\n",
    "df_destination = df_9[['passengers','origin_city_name']].rename(columns={'dest_city_name':'airport_city'})\n",
    "\n",
    "def busy_airport_by_passenger():\n",
    "    df = pd.concat((df_origin,df_destination),axis=0)\n",
    "    df = df.groupby('airport_city').sum().sort_values('passengers',ascending = False).reset_index()\n",
    "    df['passenger traffic'] = (df.passengers/ df_9.passengers.sum())*100\n",
    "    \n",
    "    return df.head(10)"
   ]
  },
  {
   "cell_type": "code",
   "execution_count": 47,
   "id": "c1b232b7-714a-4f07-ba2d-b8df2eb81e46",
   "metadata": {},
   "outputs": [
    {
     "data": {
      "text/html": [
       "<div>\n",
       "<style scoped>\n",
       "    .dataframe tbody tr th:only-of-type {\n",
       "        vertical-align: middle;\n",
       "    }\n",
       "\n",
       "    .dataframe tbody tr th {\n",
       "        vertical-align: top;\n",
       "    }\n",
       "\n",
       "    .dataframe thead th {\n",
       "        text-align: right;\n",
       "    }\n",
       "</style>\n",
       "<table border=\"1\" class=\"dataframe\">\n",
       "  <thead>\n",
       "    <tr style=\"text-align: right;\">\n",
       "      <th></th>\n",
       "      <th>airport_city</th>\n",
       "      <th>passengers</th>\n",
       "      <th>passenger traffic</th>\n",
       "    </tr>\n",
       "  </thead>\n",
       "  <tbody>\n",
       "    <tr>\n",
       "      <th>0</th>\n",
       "      <td>Atlanta, GA</td>\n",
       "      <td>22296309.0</td>\n",
       "      <td>5.302731</td>\n",
       "    </tr>\n",
       "    <tr>\n",
       "      <th>1</th>\n",
       "      <td>Chicago, IL</td>\n",
       "      <td>20944378.0</td>\n",
       "      <td>4.981202</td>\n",
       "    </tr>\n",
       "    <tr>\n",
       "      <th>2</th>\n",
       "      <td>New York, NY</td>\n",
       "      <td>18276026.0</td>\n",
       "      <td>4.346587</td>\n",
       "    </tr>\n",
       "    <tr>\n",
       "      <th>3</th>\n",
       "      <td>Los Angeles, CA</td>\n",
       "      <td>17020348.0</td>\n",
       "      <td>4.047949</td>\n",
       "    </tr>\n",
       "    <tr>\n",
       "      <th>4</th>\n",
       "      <td>Dallas/Fort Worth, TX</td>\n",
       "      <td>13724930.0</td>\n",
       "      <td>3.264200</td>\n",
       "    </tr>\n",
       "    <tr>\n",
       "      <th>5</th>\n",
       "      <td>Denver, CO</td>\n",
       "      <td>12703088.0</td>\n",
       "      <td>3.021175</td>\n",
       "    </tr>\n",
       "    <tr>\n",
       "      <th>6</th>\n",
       "      <td>Houston, TX</td>\n",
       "      <td>11968690.0</td>\n",
       "      <td>2.846514</td>\n",
       "    </tr>\n",
       "    <tr>\n",
       "      <th>7</th>\n",
       "      <td>San Francisco, CA</td>\n",
       "      <td>11448903.0</td>\n",
       "      <td>2.722893</td>\n",
       "    </tr>\n",
       "    <tr>\n",
       "      <th>8</th>\n",
       "      <td>Phoenix, AZ</td>\n",
       "      <td>10146908.0</td>\n",
       "      <td>2.413239</td>\n",
       "    </tr>\n",
       "    <tr>\n",
       "      <th>9</th>\n",
       "      <td>Seattle, WA</td>\n",
       "      <td>9960801.0</td>\n",
       "      <td>2.368977</td>\n",
       "    </tr>\n",
       "  </tbody>\n",
       "</table>\n",
       "</div>"
      ],
      "text/plain": [
       "            airport_city  passengers  passenger traffic\n",
       "0            Atlanta, GA  22296309.0           5.302731\n",
       "1            Chicago, IL  20944378.0           4.981202\n",
       "2           New York, NY  18276026.0           4.346587\n",
       "3        Los Angeles, CA  17020348.0           4.047949\n",
       "4  Dallas/Fort Worth, TX  13724930.0           3.264200\n",
       "5             Denver, CO  12703088.0           3.021175\n",
       "6            Houston, TX  11968690.0           2.846514\n",
       "7      San Francisco, CA  11448903.0           2.722893\n",
       "8            Phoenix, AZ  10146908.0           2.413239\n",
       "9            Seattle, WA   9960801.0           2.368977"
      ]
     },
     "execution_count": 47,
     "metadata": {},
     "output_type": "execute_result"
    }
   ],
   "source": [
    "busy_airport_by_passenger()"
   ]
  },
  {
   "cell_type": "code",
   "execution_count": 48,
   "id": "28d7b866-ce07-426a-af6e-85c4b1daf4de",
   "metadata": {},
   "outputs": [],
   "source": [
    "# get top 10 businest airports based on departures_performed\n",
    "airport_lst = df_9.groupby('origin').sum()[['passengers','departures_performed']].sort_values(by='departures_performed',ascending=False)[:10].index.tolist()\n",
    "    "
   ]
  },
  {
   "cell_type": "code",
   "execution_count": 63,
   "id": "a5f77e25-8cd4-4f9a-b70d-edb0b21459f0",
   "metadata": {},
   "outputs": [],
   "source": [
    "dic_traffic = {}\n",
    "total_passengers = df_9.passengers.sum()\n",
    "\n",
    "for airport in airport_lst:\n",
    "    traffic = df_9[df_9.origin == airport]['passengers'].sum()\n",
    "    dic_traffic[airport] = (traffic/total_passengers*100)"
   ]
  },
  {
   "cell_type": "code",
   "execution_count": 64,
   "id": "67a6f692-195c-4f3c-a3cf-e174c7fb76cc",
   "metadata": {},
   "outputs": [
    {
     "data": {
      "text/plain": [
       "{'ATL': 5.302432102910604,\n",
       " 'ORD': 3.904164334902015,\n",
       " 'DFW': 3.263975904281528,\n",
       " 'LAX': 4.047949459183129,\n",
       " 'DEN': 3.0211614574823975,\n",
       " 'CLT': 2.351976792586112,\n",
       " 'IAH': 2.125214919841109,\n",
       " 'EWR': 2.144898206759856,\n",
       " 'SFO': 2.7228926639508257,\n",
       " 'JFK': 2.918337319395937}"
      ]
     },
     "execution_count": 64,
     "metadata": {},
     "output_type": "execute_result"
    }
   ],
   "source": [
    "dic_traffic"
   ]
  },
  {
   "cell_type": "code",
   "execution_count": 67,
   "id": "d4def473-2097-4cfb-a090-5061b6842e44",
   "metadata": {},
   "outputs": [
    {
     "data": {
      "image/png": "[encoded data removed]",
      "text/plain": [
       "<Figure size 864x432 with 1 Axes>"
      ]
     },
     "metadata": {},
     "output_type": "display_data"
    }
   ],
   "source": [
    "fig, ax = plt.subplots(figsize = (12,6))\n",
    "plt.rcParams['font.sans-serif'] = 'Arial'\n",
    "plt.rcParams['font.family'] = 'sans-serif'\n",
    "plt.rcParams['axes.labelcolor']= '#909090'\n",
    "plt.rcParams['xtick.color'] = '#909090'\n",
    "plt.rcParams['ytick.color'] = '#909090'\n",
    "plt.rcParams['font.size']=12\n",
    "color_palette_list = ['#009ACD', '#ADD8E6', '#63D1F4', '#0EBFE9',   \n",
    "                      '#C1F0F6', '#0099CC']\n",
    "sizes = dic_traffic.values()\n",
    "labels = dic_traffic.keys()\n",
    "ax.pie(sizes, labels=labels, autopct='%1.2f%%',shadow=True, startangle=90)\n",
    "ax.axis('equal')\n",
    "plt.show()"
   ]
  },
  {
   "cell_type": "code",
   "execution_count": 70,
   "id": "c487edca-7a1b-4e6a-82a5-2f56f337c7bf",
   "metadata": {},
   "outputs": [],
   "source": [
    "#make a plotly go layout display for the percentage of highest airport traffic by passengers and traffic"
   ]
  },
  {
   "cell_type": "markdown",
   "id": "979d0b45-9933-445f-91bb-0070ed0f15a5",
   "metadata": {},
   "source": [
    "### Task 10: Do bigger delays lead to bigger fuel comsumption per passenger? We need to do four things to answer this as accurate as possible:\n",
    "\n",
    "- Find out average monthly delay per air carrier (monthly delay is sum of all delays in 1 month)\n",
    "- Find out distance covered monthly by different air carriers\n",
    "- Find out number of passengers that were carried by different air carriers\n",
    "- Find out total fuel comsumption per air carrier.\n",
    "\n",
    "Use this information to get the average fuel comsumption per passenger per km. Is this higher for the airlines with bigger average delays?"
   ]
  },
  {
   "cell_type": "code",
   "execution_count": null,
   "id": "afbddb69-96ae-4623-86df-11aed0a0e6a2",
   "metadata": {},
   "outputs": [],
   "source": []
  }
 ],
 "metadata": {
  "kernelspec": {
   "display_name": "arjun_LHL_env",
   "language": "python",
   "name": "arjun_lhl_env"
  },
  "language_info": {
   "codemirror_mode": {
    "name": "ipython",
    "version": 3
   },
   "file_extension": ".py",
   "mimetype": "text/x-python",
   "name": "python",
   "nbconvert_exporter": "python",
   "pygments_lexer": "ipython3",
   "version": "3.6.13"
  }
 },
 "nbformat": 4,
 "nbformat_minor": 5
}
