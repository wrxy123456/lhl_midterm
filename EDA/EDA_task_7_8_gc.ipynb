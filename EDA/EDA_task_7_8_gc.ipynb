{
 "cells": [
  {
   "cell_type": "code",
   "execution_count": 24,
   "id": "4af33e80",
   "metadata": {},
   "outputs": [],
   "source": [
    "import pandas as pd\n",
    "import sqlalchemy\n",
    "from sqlalchemy import create_engine\n",
    "import psycopg2\n",
    "import matplotlib.pyplot as plt\n",
    "import seaborn as sns\n",
    "import scipy.stats as stats\n",
    "import plotly.graph_objects as go\n",
    "import datetime\n",
    "import plotly.express as px\n",
    "import json\n",
    "import requests as re\n",
    "import scipy.stats as stats\n",
    "# conda install -c conda-forge psycopg2"
   ]
  },
  {
   "cell_type": "code",
   "execution_count": 31,
   "id": "9325889c",
   "metadata": {},
   "outputs": [],
   "source": [
    "import warnings\n",
    "warnings.filterwarnings('ignore')"
   ]
  },
  {
   "cell_type": "markdown",
   "id": "e1acf18d",
   "metadata": {},
   "source": [
    "### Task 7: Test the hypothesis whether planes fly faster when there is the departure delay?\n"
   ]
  },
  {
   "cell_type": "code",
   "execution_count": null,
   "id": "9c164732",
   "metadata": {},
   "outputs": [],
   "source": [
    "#going to determine speed of our flight based upon air_time divided by distance travelled\n",
    "#conduct some test to determine whether there is correlation between speed and whether a depature delay has taken place"
   ]
  },
  {
   "cell_type": "code",
   "execution_count": 82,
   "id": "0a2a53dc",
   "metadata": {},
   "outputs": [],
   "source": [
    "df_7 = pd.read_csv('Data/FLIGHTS_cleaned.csv')"
   ]
  },
  {
   "cell_type": "code",
   "execution_count": 83,
   "id": "8d5832d3",
   "metadata": {},
   "outputs": [
    {
     "data": {
      "text/plain": [
       "(196555, 3)"
      ]
     },
     "execution_count": 83,
     "metadata": {},
     "output_type": "execute_result"
    }
   ],
   "source": [
    "df_7 = df_7[['dep_delay','air_time','distance']]\n",
    "df_7.head()\n",
    "df_7.shape"
   ]
  },
  {
   "cell_type": "code",
   "execution_count": 84,
   "id": "31a3ce80",
   "metadata": {},
   "outputs": [],
   "source": [
    "def avg_plane_velo(time,distance):\n",
    "    '''Creating a basic function derived from kinematics that takes in airtime (minutes) and distance(miles) to return the average plane velocity, want the si unit to be in Mph'''\n",
    "    return distance / time *60"
   ]
  },
  {
   "cell_type": "code",
   "execution_count": 85,
   "id": "410c71a1",
   "metadata": {},
   "outputs": [],
   "source": [
    "df_7[\"average_fl_speed\"] =  df_7.apply(lambda x: avg_plane_velo(x.air_time, x.distance), axis=1)"
   ]
  },
  {
   "cell_type": "code",
   "execution_count": 1,
   "id": "f6d71887",
   "metadata": {},
   "outputs": [],
   "source": [
    "#need to compare our dataframe when there is a depature delay vs when there is no depature delay seeing how the average speeds differ"
   ]
  },
  {
   "cell_type": "code",
   "execution_count": 88,
   "id": "a4f82f32",
   "metadata": {},
   "outputs": [],
   "source": [
    "dep_delay = df_7[df_7['dep_delay'] > 0]\n",
    "no_dep_delay = df_7[df_7['dep_delay'] <= 0]"
   ]
  },
  {
   "cell_type": "code",
   "execution_count": 89,
   "id": "74db74df",
   "metadata": {},
   "outputs": [
    {
     "data": {
      "text/html": [
       "<div>\n",
       "<style scoped>\n",
       "    .dataframe tbody tr th:only-of-type {\n",
       "        vertical-align: middle;\n",
       "    }\n",
       "\n",
       "    .dataframe tbody tr th {\n",
       "        vertical-align: top;\n",
       "    }\n",
       "\n",
       "    .dataframe thead th {\n",
       "        text-align: right;\n",
       "    }\n",
       "</style>\n",
       "<table border=\"1\" class=\"dataframe\">\n",
       "  <thead>\n",
       "    <tr style=\"text-align: right;\">\n",
       "      <th></th>\n",
       "      <th>dep_delay</th>\n",
       "      <th>air_time</th>\n",
       "      <th>distance</th>\n",
       "      <th>average_fl_speed</th>\n",
       "    </tr>\n",
       "  </thead>\n",
       "  <tbody>\n",
       "    <tr>\n",
       "      <th>0</th>\n",
       "      <td>72.0</td>\n",
       "      <td>129.0</td>\n",
       "      <td>1017.0</td>\n",
       "      <td>473.023256</td>\n",
       "    </tr>\n",
       "    <tr>\n",
       "      <th>1</th>\n",
       "      <td>30.0</td>\n",
       "      <td>255.0</td>\n",
       "      <td>2077.0</td>\n",
       "      <td>488.705882</td>\n",
       "    </tr>\n",
       "    <tr>\n",
       "      <th>3</th>\n",
       "      <td>36.0</td>\n",
       "      <td>64.0</td>\n",
       "      <td>407.0</td>\n",
       "      <td>381.562500</td>\n",
       "    </tr>\n",
       "    <tr>\n",
       "      <th>6</th>\n",
       "      <td>8.0</td>\n",
       "      <td>99.0</td>\n",
       "      <td>611.0</td>\n",
       "      <td>370.303030</td>\n",
       "    </tr>\n",
       "    <tr>\n",
       "      <th>13</th>\n",
       "      <td>3.0</td>\n",
       "      <td>51.0</td>\n",
       "      <td>341.0</td>\n",
       "      <td>401.176471</td>\n",
       "    </tr>\n",
       "  </tbody>\n",
       "</table>\n",
       "</div>"
      ],
      "text/plain": [
       "    dep_delay  air_time  distance  average_fl_speed\n",
       "0        72.0     129.0    1017.0        473.023256\n",
       "1        30.0     255.0    2077.0        488.705882\n",
       "3        36.0      64.0     407.0        381.562500\n",
       "6         8.0      99.0     611.0        370.303030\n",
       "13        3.0      51.0     341.0        401.176471"
      ]
     },
     "execution_count": 89,
     "metadata": {},
     "output_type": "execute_result"
    }
   ],
   "source": [
    "dep_delay.info\n",
    "dep_delay.head()\n",
    "# dep_delay.describe()"
   ]
  },
  {
   "cell_type": "code",
   "execution_count": 90,
   "id": "b7a3a7c1",
   "metadata": {},
   "outputs": [
    {
     "data": {
      "text/html": [
       "<div>\n",
       "<style scoped>\n",
       "    .dataframe tbody tr th:only-of-type {\n",
       "        vertical-align: middle;\n",
       "    }\n",
       "\n",
       "    .dataframe tbody tr th {\n",
       "        vertical-align: top;\n",
       "    }\n",
       "\n",
       "    .dataframe thead th {\n",
       "        text-align: right;\n",
       "    }\n",
       "</style>\n",
       "<table border=\"1\" class=\"dataframe\">\n",
       "  <thead>\n",
       "    <tr style=\"text-align: right;\">\n",
       "      <th></th>\n",
       "      <th>dep_delay</th>\n",
       "      <th>air_time</th>\n",
       "      <th>distance</th>\n",
       "      <th>average_fl_speed</th>\n",
       "    </tr>\n",
       "  </thead>\n",
       "  <tbody>\n",
       "    <tr>\n",
       "      <th>2</th>\n",
       "      <td>-5.0</td>\n",
       "      <td>165.0</td>\n",
       "      <td>1491.0</td>\n",
       "      <td>542.181818</td>\n",
       "    </tr>\n",
       "    <tr>\n",
       "      <th>4</th>\n",
       "      <td>-5.0</td>\n",
       "      <td>27.0</td>\n",
       "      <td>109.0</td>\n",
       "      <td>242.222222</td>\n",
       "    </tr>\n",
       "    <tr>\n",
       "      <th>5</th>\n",
       "      <td>-15.0</td>\n",
       "      <td>39.0</td>\n",
       "      <td>228.0</td>\n",
       "      <td>350.769231</td>\n",
       "    </tr>\n",
       "    <tr>\n",
       "      <th>7</th>\n",
       "      <td>-6.0</td>\n",
       "      <td>33.0</td>\n",
       "      <td>109.0</td>\n",
       "      <td>198.181818</td>\n",
       "    </tr>\n",
       "    <tr>\n",
       "      <th>8</th>\n",
       "      <td>-1.0</td>\n",
       "      <td>101.0</td>\n",
       "      <td>651.0</td>\n",
       "      <td>386.732673</td>\n",
       "    </tr>\n",
       "  </tbody>\n",
       "</table>\n",
       "</div>"
      ],
      "text/plain": [
       "   dep_delay  air_time  distance  average_fl_speed\n",
       "2       -5.0     165.0    1491.0        542.181818\n",
       "4       -5.0      27.0     109.0        242.222222\n",
       "5      -15.0      39.0     228.0        350.769231\n",
       "7       -6.0      33.0     109.0        198.181818\n",
       "8       -1.0     101.0     651.0        386.732673"
      ]
     },
     "execution_count": 90,
     "metadata": {},
     "output_type": "execute_result"
    }
   ],
   "source": [
    "no_dep_delay.info\n",
    "no_dep_delay.head()\n",
    "# no_dep_delay.describe()"
   ]
  },
  {
   "cell_type": "code",
   "execution_count": 2,
   "id": "02f969bd",
   "metadata": {},
   "outputs": [],
   "source": [
    "#From the small sample, we can clearly see that planes tend to travel at higher velocity to potentially compensate for any lost time\n",
    "#caused from delays"
   ]
  },
  {
   "cell_type": "code",
   "execution_count": 91,
   "id": "68ad66e1",
   "metadata": {},
   "outputs": [],
   "source": [
    "#Now use some comparison operator between our two travelling groups checking whether there exists some difference when a depature delay occurs, \n",
    "def df_to_use(df1,df2):\n",
    "    if len(df1) > len(df2):\n",
    "        return 'Sample 1 is the desired dataset'\n",
    "    elif len(df2) > len(df1):\n",
    "        return 'Sample 2 is the desired dataset'\n",
    "    else:\n",
    "        return 'There is no difference between our sample sizes'"
   ]
  },
  {
   "cell_type": "code",
   "execution_count": 92,
   "id": "e6626ce9",
   "metadata": {},
   "outputs": [
    {
     "data": {
      "text/plain": [
       "'Sample 2 is the desired dataset'"
      ]
     },
     "execution_count": 92,
     "metadata": {},
     "output_type": "execute_result"
    }
   ],
   "source": [
    "df_to_use(dep_delay,no_dep_delay) #implicity we know this is the dataframe no with depature delay that has more samples`b\n"
   ]
  },
  {
   "cell_type": "code",
   "execution_count": 93,
   "id": "9a827012",
   "metadata": {},
   "outputs": [],
   "source": [
    "results = stats.mstats.ttest_ind(no_dep_delay,dep_delay)"
   ]
  },
  {
   "cell_type": "code",
   "execution_count": 94,
   "id": "4b3f969f",
   "metadata": {},
   "outputs": [
    {
     "data": {
      "text/plain": [
       "Ttest_indResult(statistic=masked_array(data=[-222.7252057128156, --, -25.610573361511104, --],\n",
       "             mask=[False,  True, False,  True],\n",
       "       fill_value=1e+20), pvalue=masked_array(data=[0.0, --, 2.0117437312621558e-144, --],\n",
       "             mask=[False,  True, False,  True],\n",
       "       fill_value=1e+20))"
      ]
     },
     "execution_count": 94,
     "metadata": {},
     "output_type": "execute_result"
    }
   ],
   "source": [
    "results"
   ]
  },
  {
   "cell_type": "markdown",
   "id": "84b7bd2b",
   "metadata": {},
   "source": [
    "### Task 8: When (which hour) do most 'LONG', 'SHORT', 'MEDIUM' haul flights take off?\n"
   ]
  },
  {
   "cell_type": "markdown",
   "id": "c62aaf34",
   "metadata": {},
   "source": [
    "how to define what a long short or medium flight actually is. All relative to dep_time and crs_elasped (scheduled departure time in local, hhmm)\n",
    "Based on the following site we can categorize what a kind of flight took place based upon select intervals\n",
    "[Long Medium Short Flight Criteria](https://www.pointhacks.com.au/differences-short-medium-long-haul-flights/)"
   ]
  },
  {
   "cell_type": "code",
   "execution_count": 96,
   "id": "728d7328",
   "metadata": {},
   "outputs": [],
   "source": [
    "df_8 = pd.read_csv('Data/FLIGHTS_cleaned.csv')"
   ]
  },
  {
   "cell_type": "code",
   "execution_count": 97,
   "id": "908a655f",
   "metadata": {},
   "outputs": [
    {
     "data": {
      "text/plain": [
       "<matplotlib.axes._subplots.AxesSubplot at 0x7ff2fc79e978>"
      ]
     },
     "execution_count": 97,
     "metadata": {},
     "output_type": "execute_result"
    },
    {
     "data": {
      "image/png": "[encoded data removed]",
      "text/plain": [
       "<Figure size 432x288 with 1 Axes>"
      ]
     },
     "metadata": {
      "needs_background": "light"
     },
     "output_type": "display_data"
    }
   ],
   "source": [
    "sns.distplot(df_8['crs_elapsed_time'])"
   ]
  },
  {
   "cell_type": "code",
   "execution_count": 98,
   "id": "f9e1bec5",
   "metadata": {},
   "outputs": [
    {
     "data": {
      "text/html": [
       "<div>\n",
       "<style scoped>\n",
       "    .dataframe tbody tr th:only-of-type {\n",
       "        vertical-align: middle;\n",
       "    }\n",
       "\n",
       "    .dataframe tbody tr th {\n",
       "        vertical-align: top;\n",
       "    }\n",
       "\n",
       "    .dataframe thead th {\n",
       "        text-align: right;\n",
       "    }\n",
       "</style>\n",
       "<table border=\"1\" class=\"dataframe\">\n",
       "  <thead>\n",
       "    <tr style=\"text-align: right;\">\n",
       "      <th></th>\n",
       "      <th>crs_elapsed_time</th>\n",
       "    </tr>\n",
       "  </thead>\n",
       "  <tbody>\n",
       "    <tr>\n",
       "      <th>0</th>\n",
       "      <td>147.0</td>\n",
       "    </tr>\n",
       "    <tr>\n",
       "      <th>1</th>\n",
       "      <td>292.0</td>\n",
       "    </tr>\n",
       "    <tr>\n",
       "      <th>2</th>\n",
       "      <td>202.0</td>\n",
       "    </tr>\n",
       "    <tr>\n",
       "      <th>3</th>\n",
       "      <td>90.0</td>\n",
       "    </tr>\n",
       "    <tr>\n",
       "      <th>4</th>\n",
       "      <td>55.0</td>\n",
       "    </tr>\n",
       "    <tr>\n",
       "      <th>...</th>\n",
       "      <td>...</td>\n",
       "    </tr>\n",
       "    <tr>\n",
       "      <th>196550</th>\n",
       "      <td>210.0</td>\n",
       "    </tr>\n",
       "    <tr>\n",
       "      <th>196551</th>\n",
       "      <td>89.0</td>\n",
       "    </tr>\n",
       "    <tr>\n",
       "      <th>196552</th>\n",
       "      <td>67.0</td>\n",
       "    </tr>\n",
       "    <tr>\n",
       "      <th>196553</th>\n",
       "      <td>265.0</td>\n",
       "    </tr>\n",
       "    <tr>\n",
       "      <th>196554</th>\n",
       "      <td>64.0</td>\n",
       "    </tr>\n",
       "  </tbody>\n",
       "</table>\n",
       "<p>196555 rows × 1 columns</p>\n",
       "</div>"
      ],
      "text/plain": [
       "        crs_elapsed_time\n",
       "0                  147.0\n",
       "1                  292.0\n",
       "2                  202.0\n",
       "3                   90.0\n",
       "4                   55.0\n",
       "...                  ...\n",
       "196550             210.0\n",
       "196551              89.0\n",
       "196552              67.0\n",
       "196553             265.0\n",
       "196554              64.0\n",
       "\n",
       "[196555 rows x 1 columns]"
      ]
     },
     "execution_count": 98,
     "metadata": {},
     "output_type": "execute_result"
    }
   ],
   "source": [
    "df_8[['crs_elapsed_time']] #can clearly see it's in minutes"
   ]
  },
  {
   "cell_type": "code",
   "execution_count": 99,
   "id": "dd361761",
   "metadata": {},
   "outputs": [],
   "source": [
    "def length_category(df,col):\n",
    "    '''Will establish what kind of flight had taken place based on the expected elapsed flight time\n",
    "    [0-3) hours: short\n",
    "    [3-6) hours: medium\n",
    "    >6 hours: long'''\n",
    "    duration_type = []\n",
    "    for i in df[col]:\n",
    "        if i / 60 < 3:\n",
    "            duration_type.append('Short')\n",
    "        elif (i / 60 > 3) & (i/60 <6):\n",
    "            duration_type.append('Medium')\n",
    "        else:\n",
    "            duration_type.append('Long')\n",
    "    \n",
    "    df['Duration Category'] = duration_type"
   ]
  },
  {
   "cell_type": "code",
   "execution_count": 100,
   "id": "4cf2dbfc",
   "metadata": {},
   "outputs": [],
   "source": [
    "def time_category(df, col):\n",
    "    ''' Based on a 24 hour clock we are going to figure out what time of the day are we dealing with.\n",
    "        Either MORNING, AFTERNOON, EVENING, or OVERNIGHT category'''\n",
    "    timeday = []\n",
    "    for i in df[col]:\n",
    "        if (i>=23) or (i<3):\n",
    "            timeday.append('overnight')\n",
    "        elif (i>=3) and (i<10):\n",
    "            timeday.append('morning')\n",
    "        elif (i>=10) and (i<18):\n",
    "            timeday.append('afternoon')\n",
    "        elif (i>=18) and (i<23):\n",
    "            timeday.append('evening')\n",
    "    \n",
    "    df[col] = timeday"
   ]
  },
  {
   "cell_type": "code",
   "execution_count": 69,
   "id": "7baffbfd",
   "metadata": {},
   "outputs": [],
   "source": [
    "# df_8.drop(columns=['crs_elapsed_time'], axis =1, inplace =True)"
   ]
  },
  {
   "cell_type": "code",
   "execution_count": 101,
   "id": "6d8fea2a",
   "metadata": {},
   "outputs": [],
   "source": [
    "length_category(df_8,'crs_elapsed_time')"
   ]
  },
  {
   "cell_type": "code",
   "execution_count": 102,
   "id": "65cf9839",
   "metadata": {},
   "outputs": [],
   "source": [
    "time_category(df_8,'crs_dep_time')"
   ]
  },
  {
   "cell_type": "code",
   "execution_count": 103,
   "id": "50a181fb",
   "metadata": {},
   "outputs": [
    {
     "data": {
      "text/plain": [
       "Duration Category\n",
       "Short                156229\n",
       "Medium                36266\n",
       "Long                   4060\n",
       "dtype: int64"
      ]
     },
     "execution_count": 103,
     "metadata": {},
     "output_type": "execute_result"
    }
   ],
   "source": [
    "df_8[['Duration Category']].value_counts()"
   ]
  },
  {
   "cell_type": "code",
   "execution_count": 104,
   "id": "37cffbfd",
   "metadata": {},
   "outputs": [
    {
     "data": {
      "text/plain": [
       "crs_dep_time\n",
       "overnight       196470\n",
       "afternoon           39\n",
       "morning             35\n",
       "evening             11\n",
       "dtype: int64"
      ]
     },
     "execution_count": 104,
     "metadata": {},
     "output_type": "execute_result"
    }
   ],
   "source": [
    "df_8[['crs_dep_time']].value_counts() #may need to address this lol"
   ]
  },
  {
   "cell_type": "code",
   "execution_count": 105,
   "id": "f0176cc1",
   "metadata": {},
   "outputs": [
    {
     "data": {
      "text/html": [
       "<div>\n",
       "<style scoped>\n",
       "    .dataframe tbody tr th:only-of-type {\n",
       "        vertical-align: middle;\n",
       "    }\n",
       "\n",
       "    .dataframe tbody tr th {\n",
       "        vertical-align: top;\n",
       "    }\n",
       "\n",
       "    .dataframe thead th {\n",
       "        text-align: right;\n",
       "    }\n",
       "</style>\n",
       "<table border=\"1\" class=\"dataframe\">\n",
       "  <thead>\n",
       "    <tr style=\"text-align: right;\">\n",
       "      <th></th>\n",
       "      <th>crs_dep_time</th>\n",
       "    </tr>\n",
       "  </thead>\n",
       "  <tbody>\n",
       "    <tr>\n",
       "      <th>0</th>\n",
       "      <td>overnight</td>\n",
       "    </tr>\n",
       "    <tr>\n",
       "      <th>1</th>\n",
       "      <td>overnight</td>\n",
       "    </tr>\n",
       "    <tr>\n",
       "      <th>2</th>\n",
       "      <td>overnight</td>\n",
       "    </tr>\n",
       "    <tr>\n",
       "      <th>3</th>\n",
       "      <td>overnight</td>\n",
       "    </tr>\n",
       "    <tr>\n",
       "      <th>4</th>\n",
       "      <td>overnight</td>\n",
       "    </tr>\n",
       "    <tr>\n",
       "      <th>...</th>\n",
       "      <td>...</td>\n",
       "    </tr>\n",
       "    <tr>\n",
       "      <th>196550</th>\n",
       "      <td>overnight</td>\n",
       "    </tr>\n",
       "    <tr>\n",
       "      <th>196551</th>\n",
       "      <td>overnight</td>\n",
       "    </tr>\n",
       "    <tr>\n",
       "      <th>196552</th>\n",
       "      <td>overnight</td>\n",
       "    </tr>\n",
       "    <tr>\n",
       "      <th>196553</th>\n",
       "      <td>overnight</td>\n",
       "    </tr>\n",
       "    <tr>\n",
       "      <th>196554</th>\n",
       "      <td>overnight</td>\n",
       "    </tr>\n",
       "  </tbody>\n",
       "</table>\n",
       "<p>196555 rows × 1 columns</p>\n",
       "</div>"
      ],
      "text/plain": [
       "       crs_dep_time\n",
       "0         overnight\n",
       "1         overnight\n",
       "2         overnight\n",
       "3         overnight\n",
       "4         overnight\n",
       "...             ...\n",
       "196550    overnight\n",
       "196551    overnight\n",
       "196552    overnight\n",
       "196553    overnight\n",
       "196554    overnight\n",
       "\n",
       "[196555 rows x 1 columns]"
      ]
     },
     "execution_count": 105,
     "metadata": {},
     "output_type": "execute_result"
    }
   ],
   "source": [
    "df_8[['crs_dep_time']]"
   ]
  },
  {
   "cell_type": "code",
   "execution_count": 106,
   "id": "a055c1e7",
   "metadata": {},
   "outputs": [
    {
     "data": {
      "text/html": [
       "<div>\n",
       "<style scoped>\n",
       "    .dataframe tbody tr th:only-of-type {\n",
       "        vertical-align: middle;\n",
       "    }\n",
       "\n",
       "    .dataframe tbody tr th {\n",
       "        vertical-align: top;\n",
       "    }\n",
       "\n",
       "    .dataframe thead th {\n",
       "        text-align: right;\n",
       "    }\n",
       "</style>\n",
       "<table border=\"1\" class=\"dataframe\">\n",
       "  <thead>\n",
       "    <tr style=\"text-align: right;\">\n",
       "      <th></th>\n",
       "      <th>crs_arr_time</th>\n",
       "    </tr>\n",
       "  </thead>\n",
       "  <tbody>\n",
       "    <tr>\n",
       "      <th>0</th>\n",
       "      <td>1821</td>\n",
       "    </tr>\n",
       "    <tr>\n",
       "      <th>1</th>\n",
       "      <td>1850</td>\n",
       "    </tr>\n",
       "    <tr>\n",
       "      <th>2</th>\n",
       "      <td>2312</td>\n",
       "    </tr>\n",
       "    <tr>\n",
       "      <th>3</th>\n",
       "      <td>1850</td>\n",
       "    </tr>\n",
       "    <tr>\n",
       "      <th>4</th>\n",
       "      <td>828</td>\n",
       "    </tr>\n",
       "    <tr>\n",
       "      <th>...</th>\n",
       "      <td>...</td>\n",
       "    </tr>\n",
       "    <tr>\n",
       "      <th>196550</th>\n",
       "      <td>1305</td>\n",
       "    </tr>\n",
       "    <tr>\n",
       "      <th>196551</th>\n",
       "      <td>809</td>\n",
       "    </tr>\n",
       "    <tr>\n",
       "      <th>196552</th>\n",
       "      <td>947</td>\n",
       "    </tr>\n",
       "    <tr>\n",
       "      <th>196553</th>\n",
       "      <td>2200</td>\n",
       "    </tr>\n",
       "    <tr>\n",
       "      <th>196554</th>\n",
       "      <td>2319</td>\n",
       "    </tr>\n",
       "  </tbody>\n",
       "</table>\n",
       "<p>196555 rows × 1 columns</p>\n",
       "</div>"
      ],
      "text/plain": [
       "        crs_arr_time\n",
       "0               1821\n",
       "1               1850\n",
       "2               2312\n",
       "3               1850\n",
       "4                828\n",
       "...              ...\n",
       "196550          1305\n",
       "196551           809\n",
       "196552           947\n",
       "196553          2200\n",
       "196554          2319\n",
       "\n",
       "[196555 rows x 1 columns]"
      ]
     },
     "execution_count": 106,
     "metadata": {},
     "output_type": "execute_result"
    }
   ],
   "source": [
    "df_8[['crs_arr_time']]"
   ]
  },
  {
   "cell_type": "code",
   "execution_count": 107,
   "id": "2be11549",
   "metadata": {},
   "outputs": [
    {
     "data": {
      "image/png": "[encoded data removed]",
      "text/plain": [
       "<Figure size 432x288 with 1 Axes>"
      ]
     },
     "metadata": {
      "needs_background": "light"
     },
     "output_type": "display_data"
    }
   ],
   "source": [
    "#have to create some function that changes a hm column to a hh output in order to compare time when flight takes off and time when flight arrives\n",
    "long = df_8['Duration Category'] == 'Long'\n",
    "med = df_8['Duration Category'] == 'Medium'\n",
    "short = df_8['Duration Category'] == 'Short'\n",
    "\n",
    "L = df_8[long][['crs_dep_time','mkt_carrier_fl_num']].groupby('crs_dep_time').agg('count').sort_values('mkt_carrier_fl_num',ascending=False).rename(columns={'mkt_carrier_fl_num':'num_flights'});\n",
    "ax = L.plot(kind='bar', title='Long-Haul Flights',rot=0, legend=False, color='r');\n",
    "ax.set(xlabel='Time of Day', ylabel='Number of Flights');\n"
   ]
  },
  {
   "cell_type": "code",
   "execution_count": 108,
   "id": "a7cebe0c",
   "metadata": {},
   "outputs": [
    {
     "data": {
      "image/png": "[encoded data removed]",
      "text/plain": [
       "<Figure size 432x288 with 1 Axes>"
      ]
     },
     "metadata": {
      "needs_background": "light"
     },
     "output_type": "display_data"
    }
   ],
   "source": [
    "M = df_8[med][['crs_dep_time','mkt_carrier_fl_num']].groupby('crs_dep_time').agg('count').sort_values('mkt_carrier_fl_num',ascending=False).rename(columns={'mkt_carrier_fl_num':'num_flights'})\n",
    "ax = M.plot(kind='bar', title='Medium-Haul Flights',rot=0, legend=False, color='b');\n",
    "ax.set(xlabel='Time of Day', ylabel='Number of Flights');"
   ]
  },
  {
   "cell_type": "code",
   "execution_count": 109,
   "id": "def7e6b5",
   "metadata": {},
   "outputs": [
    {
     "data": {
      "image/png": "[encoded data removed]",
      "text/plain": [
       "<Figure size 432x288 with 1 Axes>"
      ]
     },
     "metadata": {
      "needs_background": "light"
     },
     "output_type": "display_data"
    }
   ],
   "source": [
    "S = df_8[short][['crs_dep_time','mkt_carrier_fl_num']].groupby('crs_dep_time').agg('count').sort_values('mkt_carrier_fl_num',ascending=False).rename(columns={'mkt_carrier_fl_num':'num_flights'})\n",
    "ax = S.plot(kind='bar', title='Short-Haul Flights',rot=0, legend=False, color='g');\n",
    "ax.set(xlabel='Time of Day', ylabel='Number of Flights');"
   ]
  }
 ],
 "metadata": {
  "kernelspec": {
   "display_name": "arjun_LHL_env",
   "language": "python",
   "name": "arjun_lhl_env"
  },
  "language_info": {
   "codemirror_mode": {
    "name": "ipython",
    "version": 3
   },
   "file_extension": ".py",
   "mimetype": "text/x-python",
   "name": "python",
   "nbconvert_exporter": "python",
   "pygments_lexer": "ipython3",
   "version": "3.6.13"
  }
 },
 "nbformat": 4,
 "nbformat_minor": 5
}
